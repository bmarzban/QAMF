{
 "cells": [
  {
   "cell_type": "markdown",
   "metadata": {
    "colab_type": "text",
    "id": "evhuCeB8uUlv"
   },
   "source": [
    "# 1. Electrical capacitance and energy of the mitochondrial inner membrane\n",
    "\n",
    "A capacitor is an electrical circuit element that stores electrical energy in an electric field (Wikipedia REF). The mitochondrial inner membrane acts as an electrical capacitor to store energy in an electrostatic potential different between the milieu on the two sides the membrane. \n",
    "\n",
    "Electrical capacitance is measured in units of charge per unit voltage, or in standard units, Coulombs per Volt (C/V), equivalently, a Farad. (1 F = 1 C/V)"
   ]
  },
  {
   "cell_type": "code",
   "execution_count": null,
   "metadata": {
    "colab": {},
    "colab_type": "code",
    "id": "7LndbasZDhCS"
   },
   "outputs": [],
   "source": []
  },
  {
   "cell_type": "markdown",
   "metadata": {
    "colab_type": "text",
    "id": "A7LsK4TCucO5"
   },
   "source": [
    "## 1.1. What is the capacitance of mitochondrial inner membrane? Make a reasonable assumption about the size of a mitochondrion and assume that the inner membrane has 5 or 10 times more area than the outer membrane.\n",
    "\n",
    "A typical range for the capacity density of a biological membrane is 0.5-1.0 $\\mu$F cm$^{-2}$ [REF]. Let’s take a mitochondrion as a sphere with radius 1  $\\mu$m. In this case the outer membrane would have a surface area of $4\\pi r^2$, or approximately 12.5  $\\mu$m$^2$. If the inner membrane has 10 times more area than the outer, then the area of the inner membrane is 125 $\\mu$m$^2$. So, we can approximate the capacitance of this mitochondrion’s inner membrane as\n",
    "\n",
    "$$\n",
    "  c_{mito} = \\left( 1 \\frac{\\mu{\\rm F}} {{\\rm cm}^2} \\right)\n",
    "             \\left(  125 \\, \\mu{\\rm m}^2  \\right)\n",
    "             \\left( \\frac{ 1 \\, {\\rm cm}^2} {10^8 \\mu{\\rm m}^2} \\right) = \n",
    "             1.25 \\times 10^{-6} \\mu{\\rm F} .\n",
    "$$"
   ]
  },
  {
   "cell_type": "markdown",
   "metadata": {
    "colab_type": "text",
    "id": "bgs8nMJlui-r"
   },
   "source": [
    "## 1.2. Express inner mitochondrial membrane capacitance in units of: (a.) farads per liter of mitochondria; (b.) moles per millivolt per unit liter of mitochondria. \n",
    "\n",
    "Note that for a spherical mitochondrion of radius 1 $\\mu$m, we have a volume of \n",
    "\\begin{equation} \n",
    "    \\Bigg(\\frac{4}{3}\\pi (1\\mu\\rm{m})^3\\Bigg) \\Bigg(\\frac{1 \\ \\rm{cm}}{10^4 \\ \\mu\\rm{m}}\\Bigg)^3 \\Bigg(\\frac{1 \\ \\rm{mL}}{1 \\ \\rm{cm}^3} \\Bigg) \\Bigg(\\frac{1 \\ \\rm{L}}{10^3 \\ \\rm{mL}}\\Bigg) = \\frac{4}{3}\\pi \\times 10^{-15} \\ \\rm{L}. \n",
    "\\end{equation} \n",
    "Dividing the capacitance by the volume gives \n",
    "\\begin{equation} \n",
    "    \\Bigg(\\frac{1.25 \\times 10^{-6} \\ \\mu\\rm{F}}{\\frac{4}{3}\\pi \\times 10^{-15} \\ \\rm{L}} \\Bigg) \\Bigg( \\frac{1 \\ \\rm{F}}{10^6 \\ \\mu\\rm{F}} \\Bigg) = 2.98 \\times 10^2 \\frac{\\rm{F}}{\\rm{L}} \\approx 300 \\frac{\\rm{F}}{\\rm{L}} = 300 \\frac{\\rm{C}}{\\rm{V}\\cdot \\rm{L}} = 0.3 \\frac{\\rm{C}}{\\rm{mV} \\cdot \\rm{L}}. \n",
    "\\end{equation} \n",
    "Converting untis gives\n",
    "\\begin{equation} \n",
    "    \\Bigg( 300 \\frac{\\rm{F}}{\\rm{L}} \\Bigg) \\Bigg(\\frac{1 \\ \\frac{\\rm{C}}{\\rm{V}}}{1 \\ \\rm{F}} \\Bigg) \\Bigg( \\frac{1 \\ \\rm{V}}{10^3 \\ \\rm{mV}} \\Bigg) \\Bigg( \\frac{1 \\ \\rm{mol}}{96485 \\ \\rm{C}} \\Bigg) = 3.11 \\times 10^{-6} \\frac{\\rm{mol}}{\\rm{mV} \\cdot \\rm{L}}\n",
    "\\end{equation}"
   ]
  },
  {
   "cell_type": "markdown",
   "metadata": {
    "colab_type": "text",
    "id": "JatkRW3PuoA2"
   },
   "source": [
    "## 1.3. If the electrostatic potential across the inner mitochondrial membrane is 180 mV, how much electrical energy per unit volume is stored in mitochondria? How much electrical energy is stored in mitochondria per unit volume of myocardium? Express your answer in joules per liter.\n",
    "\n",
    "\n",
    "The potential $U$ stored on a capacitor is given by \n",
    "\\begin{equation} \n",
    "    U = \\frac{1}{2} c \\Delta \\Psi^2,\n",
    "\\end{equation} \n",
    "where $c$ is the capacitance and $\\Delta\\Psi$ is the voltage gradient across the membrane. Then the energy per unit volume of mitochondria is \n",
    "\\begin{equation} \n",
    "    U_{mito} = \\frac{1}{2} c_{mito} \\Delta \\Psi^2 = \\frac{1}{2} \\Bigg(0.3 \\ \\frac{\\rm{C}}{\\rm{mV} \\cdot \\rm{L}} \\Bigg) (180 \\ \\rm{mV})^2 = 4.86 \\times 10^3 \\ \\frac{\\rm{C} \\cdot \\rm{mV}}{\\rm{L}} = 4.86 \\ \\frac{\\rm{C} \\cdot \\rm{V}}{\\rm{L}} = 4.86 \\frac{\\rm{J}}{\\rm{L}} \\approx 5 \\ \\frac{\\rm{J}}{\\rm{L}}.\n",
    "\\end{equation} \n",
    "Since approximately 1/3 of the volume of myocardium is mitochondria, the energy stored in the myocardium is 5/3 J L$^{-1}$. \n"
   ]
  },
  {
   "cell_type": "markdown",
   "metadata": {
    "colab_type": "text",
    "id": "O8vOuECiusfE"
   },
   "source": [
    "## 1.4. Approximately much electrical energy is stored in mitochondria in the whole human heart? How does that compare to the amount of energy supplied by a AA battery? How does it compare to the amount of mechanical work the heart does per unit time?\n",
    "\n",
    "\n",
    "An average human heart is approximately 250 g. In L, that is \n",
    "\\begin{equation} \n",
    "    250 g \\Bigg( \\frac{1 \\ \\rm{L}}{10^3 \\ \\rm{g}} \\Bigg) = 0.25\\ \\rm{L}. \n",
    "\\end{equation} \n",
    "Then,\n",
    "\\begin{equation} \n",
    "    \\Bigg(\\frac{5}{3} \\ \\frac{\\rm{J}}{\\rm{L}} \\Bigg) \\Bigg(\\frac{1}{4} \\ \\rm{L} \\Bigg) = \\frac{5}{12} \\ \\rm{J}\n",
    "\\end{equation} \n",
    "of energy is stored in the inner membrane of the mitochondria. \n",
    "\n",
    "A typical AA battery contains 0.0039 kWH = 14 kJ. The LV typically does 1 W of work at baseline, that is, 1 W = 1 J s$^{-1}$. \n",
    "\n",
    "\n",
    "Another comparison: the LV does approximately 1 watt of work under resting baseline conditions. That is: 1 W = 1 joule / second. The $1/4$ joule of electrical energy stored in the inner mitochodondrial membrane is equivalent to how much mechanical work the heart does at rest in $1/4$ second."
   ]
  },
  {
   "cell_type": "markdown",
   "metadata": {
    "colab_type": "text",
    "id": "YTjuANgWuxgk"
   },
   "source": [
    "# 2. Converting electrical potential to the ATP hydrolysis chemical potential\n",
    "\n",
    "The electrostatic energy potential across the mitochondrial inner membrane is used to drive the synthesis of ATP in the final step of oxidative ATP synthesis. The mammalian mitochondrial F$_1$F$_0$-ATPase synthesizes ATP in the mitochondrial matrix from ADP and inorganic phosphate, coupled to the translocation of protons (H$^{+}$ ions) from outside to inside of the matrix. The chemical reaction stoichiometry can be expressed as\n",
    "\n",
    "\\begin{equation}\n",
    "\t\\mathrm{MgADP}^{1-} + \\mathrm{HPO}_4^{2-} + (\\mathrm{H}^+)_\\mathrm{inside} \\leftrightharpoons\n",
    "    \\mathrm{MgATP}^{2-} + \\mathrm{H}_2\\mathrm{O},\t\t\t\t\n",
    "\\end{equation}\n",
    "\n",
    "where the term $(\\mathrm{H}^+)_\\mathrm{inside}$ indicates that a hydrogen ion from inside the matrix is covalently incorporated into the synthesized ATP. The species MgADP$^{1-}$ and MgATP$^{2-}$ are the magnesium-bound species of ADP and ATP. This chemical reaction is coupled to the transport of $n_A = 8/3$ protons across the inner membrane:\n",
    "\n",
    "\\begin{equation}\n",
    "    n_A \\, (\\mathrm{H}^+)_\\mathrm{outside} \\leftrightharpoons n_A \\, (\\mathrm{H}^+)_\\mathrm{inside}.\n",
    "\\end{equation}"
   ]
  },
  {
   "cell_type": "markdown",
   "metadata": {
    "colab_type": "text",
    "id": "pVH2TxHwu2kN"
   },
   "source": [
    "## 2.1. Given a free magnesium concentration [Mg$^{2+}$] and hydrogen ion activity [H$^+$] = 10$^{\\rm -pH}$, how can you compute the concentrations of MgADP$^{1-}$, MgATP$^{2-}$, and HPO$_4^{2-}$ in terms of the total concentrations of the reactants [$\\Sigma$ADP], [$\\Sigma$ATP], and [$\\Sigma$Pi]? (You will need to account for binding of biochemical species to [Mg$^{2+}$] and [H$^+$].)\n",
    "\n",
    "\n",
    "To determine the total measurable ATP, we must consider each cation species and their dissociation. The dissociation constants of ATP from each cation species are \n",
    "\\begin{align} \n",
    "    \\rm{MgATP}^{2-} \\rightleftharpoons \\rm{Mg}^{2+} + \\rm{ATP}^{4-} \\quad &\\Rightarrow \\quad K_{\\rm{MgATP}} = \\frac{[\\rm{Mg}^{2+}] [\\rm{ATP}^{4-}]}{[\\rm{MgATP}^{2-}]} \\\\ \n",
    "    \\rm{HATP}^{3-} \\rightleftharpoons \\rm{H}^{+} + \\rm{ATP}^{4-} \\quad &\\Rightarrow \\quad K_{\\rm{HATP}} = \\frac{[\\rm{H}^{+}] [\\rm{ATP}^{4-}]}{[\\rm{HATP}^{3-}]} \\\\ \n",
    "    \\rm{KATP}^{3-} \\rightleftharpoons \\rm{K}^{+} + \\rm{ATP}^{4-} \\quad &\\Rightarrow \\quad K_{\\rm{KATP}} = \\frac{[\\rm{K}^{+}] [\\rm{ATP}^{4-}]}{[\\rm{KATP}^{3-}]}.\n",
    "\\end{align} \n",
    "Note: we disregard the doubly bound cation species in these calculations. Then, the total measurable ATP is \n",
    "\\begin{eqnarray}\n",
    "  [\\Sigma{\\rm ATP}] & = & [{\\rm ATP}^{4-}] + [{\\rm Mg}\\cdot{\\rm ATP}^{2-}] + \n",
    "                          [{\\rm H}\\cdot{\\rm ATP}^{3-}] + [{\\rm K}\\cdot{\\rm ATP}^{3-}] \\\\\n",
    "                    & = & [{\\rm ATP}^{4-}]  + \\frac{[{\\rm Mg}^{2+}]}{K_\\mathrm{MgATP}}[{\\rm ATP}^{4-}]  + \n",
    "                          \\frac{[{\\rm H}^{+}]}{K_\\mathrm{HATP}}[{\\rm ATP}^{4-}] + \n",
    "                          \\frac{[{\\rm K}^{+}]}{K_\\mathrm{KATP}}[{\\rm ATP}^{4-}]  \\\\\n",
    "                    & = & [{\\rm ATP}^{4-}]\\left(1 + \\frac{[{\\rm Mg}^{2+}]}{K_\\mathrm{MgATP}} + \n",
    "                          \\frac{[{\\rm H}^{+}]}{K_\\mathrm{HATP}} + \\frac{[{\\rm K}^{+}]}{K_\\mathrm{KATP}} \\right) \\\\ \n",
    "                          & = & [\\mathrm{ATP}^{4-}] P_{\\mathrm{ATP}},\n",
    "\\end{eqnarray}\n",
    "where we can define something called the *binding polynomial*, $P_\\mathrm{ATP}$, that is, \n",
    "\\begin{equation}\n",
    "  P_{ATP} =  1 + \\frac{[{\\rm Mg}^{2+}]}{K_\\mathrm{MgATP}} + \n",
    "                     \\frac{[{\\rm H}^{+}]}{K_\\mathrm{HATP}} + \\frac{[{\\rm K}^{+}]}{K_\\mathrm{KATP}}.\n",
    "\\end{equation} \n",
    "Similarly, we can define binding polynomials for the other species as \n",
    "\\begin{eqnarray}\n",
    "  P_\\mathrm{ADP} & = & 1 + \\frac{[{\\rm Mg}^{2+}]}{K_\\mathrm{MgADP}} + \n",
    "                     \\frac{[{\\rm H}^{+}]}{K_\\mathrm{HADP}} + \\frac{[{\\rm K}^{+}]}{K_\\mathrm{KADP}} \\quad \\text{and} \\\\\n",
    "  P_\\mathrm{Pi}  & = & 1 + \\frac{[{\\rm Mg}^{2+}]}{K_\\mathrm{MgPi}} + \n",
    "                     \\frac{[{\\rm H}^{+}]}{K_\\mathrm{HPi}} + \\frac{[{\\rm K}^{+}]}{K_\\mathrm{KPi}}. \n",
    "\\end{eqnarray}\n",
    "Then, the total measurable concentrations are \n",
    "\\begin{eqnarray}\n",
    "  [\\Sigma{\\rm ATP}] & = & [{\\rm ATP}^{4-}] P_\\mathrm{ATP} \\\\\n",
    "  [\\Sigma{\\rm ADP}] & = & [{\\rm ADP}^{3-}] P_\\mathrm{ADP} \\\\\n",
    "  [\\Sigma{\\rm Pi}] & = & [{\\rm HPO}_4^{2-}] P_\\mathrm{Pi} \\, .\n",
    "\\end{eqnarray}\n",
    "\n",
    "Furthermore\n",
    "\\begin{eqnarray}\n",
    "  [{\\rm Mg}\\cdot{\\rm ATP}^{2-}] & = & \\frac{[{\\rm Mg}^{2+}]/K_\\mathrm{MgATP}}{P_\\mathrm{ATP}}[\\Sigma{\\rm ATP}] \\\\\n",
    "  [{\\rm Mg}\\cdot{\\rm ADP}^{1-}] & = & \\frac{[{\\rm Mg}^{2+}]/K_\\mathrm{MgADP}}{P_\\mathrm{ADP}}[\\Sigma{\\rm ADP}] \\\\\n",
    "  [{\\rm HPO}_4^{2-}] & = & \\frac{1}{P_\\mathrm{Pi}}[\\Sigma{\\rm Pi}] \\\\\n",
    "\\end{eqnarray}"
   ]
  },
  {
   "cell_type": "markdown",
   "metadata": {
    "colab_type": "text",
    "id": "2Qg62kwAM2a6"
   },
   "source": [
    "## 2.2. Derive an expression for the Gibbs free energy change associated with reaction (2.1) in terms of the reference $\\Delta G_r^0$, the concentrations of biochemical reactants, and the cation concentrations [Mg$^{2+}$] and [H$^+$]. What is the free energy of ATP hydrolysis in the mitochondrial matrix? Assume that pH = 7.2 and [$\\Sigma$ADP] = 9.5 mM, [$\\Sigma$ATP] = 0.5 mM, and [$\\Sigma$Pi] = 1 mM.\n",
    "\n",
    "To determine the Gibbs energy of the ATP synthesis reaction, consider the ATP synthesis reaction\n",
    "$$\n",
    "  \\rm ADP^{3-} + HPO_4^{2-} + H^+ \\rightleftharpoons ATP^{4-} + H_2O \\, ,\n",
    "$$\n",
    "with equilibrium mass action ratio\n",
    "$$\n",
    "  K_{eq} = e^{-\\Delta G_\\mathrm{ATP}^0 / RT} = \\left( \\frac{[{\\rm ATP}^{4-}]}\n",
    "        {[{\\rm H}^+][{\\rm HPO}_4^{2-}][{\\rm ADP}^{3-}]} \\right)_{eq} , \n",
    "$$\n",
    "where $\\Delta G_\\mathrm{ATP}^0$ is the change in Gibbs energy under standard conditions. Substituting the expressions for the binding polynomials, we have\n",
    "$$\n",
    "  K_{eq} = e^{-\\Delta G_\\mathrm{ATP}^0 / RT} = \\left( \\frac{[\\Sigma{\\rm ATP}]}\n",
    "        {[\\Sigma{\\rm Pi}][\\Sigma{\\rm ADP}]} \\right)_{eq}\n",
    "        \\frac{P_\\mathrm{ADP}P_\\mathrm{Pi}}{P_\\mathrm{ATP}} \\frac{1}{[{\\rm H}^+]}\\, ,\n",
    "$$\n",
    "which yields and expression for the *apparent equilibrium constant* in terms of biochemical reactants\n",
    "$$\n",
    "  K'_{eq} = e^{-\\Delta G_\\mathrm{ATP}^{\\prime 0} / RT} = \\left( \\frac{[\\Sigma{\\rm ATP}]}\n",
    "        {[\\Sigma{\\rm Pi}][\\Sigma{\\rm ADP}]} \\right)_{eq} =\n",
    "        K_{eq}[{\\rm H}^+]\\frac{P_\\mathrm{ATP}}{P_\\mathrm{ADP}P_\\mathrm{Pi}} \\, .\n",
    "$$\n",
    "\n",
    "Using these equations, there are a couple of equivalent ways to express the Gibbs free enegy change for this reaction. One is based on the referenc chemical reaction\n",
    "\n",
    "\\begin{equation}\n",
    "  \\Delta G_\\mathrm{ATP} = \\Delta G^0_\\mathrm{ATP} - RT \\ln\\left( \\frac{[{\\rm H}^+][{\\rm HPO}_4^{2-}][{\\rm ADP}^{3-}]}\n",
    "                                                  {[{\\rm ATP}^{4-}]}\\right) \\, .\n",
    "\\end{equation}\n",
    "\n",
    "The other is\n",
    "\\begin{equation}\n",
    "  \\Delta G_\\mathrm{ATP} = \\Delta G^{\\prime 0}_\\mathrm{ATP} - RT \\ln\\left( \\frac{[\\Sigma{\\rm Pi}][\\Sigma{\\rm ADP}]}\n",
    "                                                  {[\\Sigma{\\rm ATP}]}\\right) ,\n",
    "\\end{equation}\n",
    "where $\\Delta G_\\mathrm{ATP}^{\\prime 0}$ is the apparent Gibbs energy under standard conditions.\n",
    "\n",
    "To verify these two equations give the same value, take the following values for dissociation constants\n",
    "\n",
    "| Reactant (L) | $K_{H-L}$                | $K_{K-L}$               | $K_{Mg-L}$                |\n",
    "| ------------ | ------------------------ | ----------------------- | ------------------------- |\n",
    "| ATP          | 2.757$\\times 10^{-7}$ M  | 9.809$\\times 10^{-2}$ M   | 8.430$\\times 10^{-5}$ M   |\n",
    "| ADP          | 4.106$\\times 10^{-7}$ M  | 1.319$\\times 10^{-1}$ M   | 7.149$\\times 10^{-4}$ M   |\n",
    "| PI           | 2.308$\\times 10^{-7}$ M  | 3.803$\\times 10^{-1}$ M  | 2.815$\\times 10^{-2}$ M   |\n",
    "\n",
    "and $\\Delta_r^0 G = -4.67$ kJ/mole, which yields $K_{eq} = 6.1163$ at 37$^\\circ$ C.\n",
    "\n",
    "The Python code below verifies that both approaches yield the same value of 45.730 kJ/mole."
   ]
  },
  {
   "cell_type": "code",
   "execution_count": 573,
   "metadata": {
    "colab": {
     "base_uri": "https://localhost:8080/",
     "height": 53
    },
    "colab_type": "code",
    "id": "sffWwS0dM2a7",
    "outputId": "ffa73132-cd18-4a7c-ad51-0fa298e343f6"
   },
   "outputs": [
    {
     "name": "stdout",
     "output_type": "stream",
     "text": [
      "First equation: 45729.93159766788  J/mole\n",
      "Second equation: 45729.93159766787  J/mole\n"
     ]
    }
   ],
   "source": [
    "import numpy \n",
    "\n",
    "# Dissociation Constants\n",
    "K_HATP = 2.757e-7\n",
    "K_KATP = 9.809e-2\n",
    "K_MATP = 8.430e-5\n",
    "K_HADP = 4.106e-7\n",
    "K_KADP = 1.319e-1\n",
    "K_MADP = 7.149e-4\n",
    "K_HPI  = 2.308e-7\n",
    "K_KPI  = 3.803e-1\n",
    "K_MPI  = 2.815e-2\n",
    "\n",
    "# Other constants\n",
    "Keq = 6.1163\n",
    "DG_ATP0 = -4670\n",
    "RT = 310.15*8.3145\n",
    "DG_ATP0 = -RT*numpy.log(Keq)\n",
    "\n",
    "# Concentrations\n",
    "ATP = 0.5e-3\n",
    "ADP = 9.5e-3\n",
    "Pi  = 1e-3\n",
    "Mg  = 1e-3\n",
    "H   = 10**(-7.2)\n",
    "K   = 100e-3\n",
    "\n",
    "# binding polynomials:\n",
    "P_ATP = 1 + H/K_HATP + K/K_KATP + Mg/K_MATP\n",
    "P_ADP = 1 + H/K_HADP + K/K_KADP + Mg/K_MADP\n",
    "P_PI  = 1 + H/K_HPI  + K/K_KPI  + Mg/K_MPI\n",
    "\n",
    "# reference species concentration\n",
    "ATPs = ATP/P_ATP\n",
    "ADPs = ADP/P_ADP\n",
    "Pi_s = Pi/P_PI\n",
    "\n",
    "# compute DeltaG_r in terms of reference species\n",
    "DG_ATP1 = +DG_ATP0 - RT*numpy.log(H*Pi_s*ADPs/ATPs)\n",
    "print(\"First equation:\",DG_ATP1,\" J/mole\")\n",
    "\n",
    "K_apparent = Keq*H*P_ATP/(P_ADP*P_PI)\n",
    "DG_ATP2 = -RT*numpy.log(K_apparent) - RT*numpy.log(ADP*Pi/ATP)\n",
    "print(\"Second equation:\",DG_ATP2,\" J/mole\")"
   ]
  },
  {
   "cell_type": "markdown",
   "metadata": {
    "colab_type": "text",
    "id": "A1mnRh4kM2bB"
   },
   "source": [
    "This positive value for $\\Delta G_\\mathrm{ATP}$ means that the reaction is not favorable to proceed in the forward driection. (In other words, ATP synthesis cannot proceed without being coupled to some other driving force.)"
   ]
  },
  {
   "cell_type": "markdown",
   "metadata": {
    "colab_type": "text",
    "id": "c0_N0EFNAKXO"
   },
   "source": [
    "## 2.3. What is the free energy change of Equation (2.2) at $\\Delta\\Psi$ = 180 mV? How does the free energy change of Equation (2.1) compare to that of Equation (2.2)? How efficient is the transduction of electrical to chemical free energy in this step in ATP synthesis? (What is the ratio of energy stored in ATP to the total energy consumed?)\n",
    "\n",
    "\n",
    "The Gibbs energy of translocating protons across the membrane $\\Delta G_{\\rm{H}^{+}}$ at $\\Delta \\Psi = 180$ mV is \n",
    "\\begin{equation} \n",
    "    \\Delta G_{\\rm{H}^{+}} = -F \\Delta\\Psi = - \\Bigg(96485 \\frac{\\rm{C}}{\\rm{mol}} \\Bigg) (0.18 \\ \\rm{V}) \\Bigg( \\frac{1 \\ \\frac{\\rm{J}}{\\rm{C}}}{1 \\ \\rm{V}} \\Bigg) \\Bigg( \\frac{1 \\ \\rm{kJ}}{10^3 \\ \\rm{J}} \\Bigg) = -17.36 \\ \\frac{\\rm{kJ}}{\\rm{mol}}\n",
    "\\end{equation}\n",
    "for Faraday's constant $F$. Note: *this equation ignores differences in pH on either side of the inner membrane*. This is the energy required (per mole) to move positive charges against the electrostatic gradient from the inside to the outside of the matrix. In other words, there is an electrical force driving postive charge into the matrix. \n",
    "\n",
    "Since ATP synthesis reaction in mitochondrial is coupled to $n_A = 8/3$ H$^+$ translocate to the matrix, the overall free energy change for the coupled transport and reaction process is\n",
    "\n",
    "\\begin{equation}\n",
    "  \\Delta G = \\Delta G_\\mathrm{ATP} + n_A \\Delta G_{\\mathrm{H}^+} \\, .\n",
    "\\end{equation}\n",
    "\n",
    "Plugging the numbers from Section (2.2) we get\n",
    "\n",
    "\\begin{equation}\n",
    "  \\Delta G = +45.73 - (8/3)*17.36 = -0.56 \\, {\\rm kJ \\ mol}^{-1} \\, ,\n",
    "\\end{equation}\n",
    "\n",
    "which means that, given the assumed concentrations, the system is operating close to equilibrium. The ratio of chemical energy stored in the ATP hydrolysis potential to electrical energy consumed is $45.73/46.32 \\approx 98.7 \\%$.\n",
    "\n"
   ]
  },
  {
   "cell_type": "markdown",
   "metadata": {
    "colab_type": "text",
    "id": "CaAQpfb-CizH"
   },
   "source": [
    "\n",
    "## 2.4. Given the concentrations assumed in 2.2, what is the minimum value of $\\Delta\\Psi$ at which ATP can be synthesized in the mitochondrial matrix?\n",
    "\n",
    "At equilibrium, $\\Delta G = 0$, that is, \n",
    "\\begin{eqnarray} \n",
    "    \\Delta G_{\\rm{ATP}} &=& - n_{A} \\Delta G_{\\rm{H}^{+}} = -n_{A} (- F \\Delta \\Psi) \\\\\n",
    "    \\Rightarrow \\Delta \\Psi  &=& \\frac{\\Delta G_\\mathrm{ATP} }{ n_A F } = 177.8 \\ \\mathrm{mV}.\n",
    "\\end{eqnarray} "
   ]
  },
  {
   "cell_type": "markdown",
   "metadata": {
    "colab_type": "text",
    "id": "pO9WDIXpEyuo"
   },
   "source": [
    "## 2.5. Assume that reaction (2.1) proceeds by simple mass-action kinetics, with a constant reverse rate $k_r$. How does the forward rate constant necessarily depend on $\\Delta\\Psi$ for the reaction kinetics to be properly thermodynamically balanced?\n",
    "\n",
    "To recap, the free energy for the ATP synthesis reaction\n",
    "\\begin{equation}\n",
    "\t{\\rm ADP}^{3-} + {\\rm HPO}_4^{2-} + ({\\rm H}^+)_{\\rm inside} \\leftrightharpoons\n",
    "    {\\rm ATP}^{4-} + {\\rm H}_2{\\rm O},\t\t\t\t\n",
    "\\end{equation}\n",
    "is\n",
    "\\begin{equation}\n",
    "  \\Delta G_\\mathrm{ATP} = \\Delta G_\\mathrm{ATP}^0 - RT \\log\\left( \\frac{[{\\rm H}^+]_{\\rm inside}[{\\rm HPO}_4^{2-}][{\\rm ADP}^{3-}]}\n",
    "      {[{\\rm ATP}^{4-}]} \\right)\n",
    "\\end{equation}\n",
    "where $\\Delta G_\\mathrm{ATP}^0 \\approx -4.6$ kJ/mole is the standard Gibbs free energy change for the reference chemical reaction. In mitochondria ATP synthesis is coupled to proton transport from outside to inside of the matrix as\n",
    "\\begin{equation}\n",
    "   n_A \\left({\\rm H}^+ \\right)_{\\rm outside} \\leftrightharpoons n_A \\left({\\rm H}^+ \\right)_{\\rm inside} ,\n",
    "\\end{equation}\n",
    "which is associated with a free energy change\n",
    "\\begin{equation}\n",
    "  \\Delta G_{\\mathrm{H}^{+}} = -n_A F\\Delta\\Psi - RT \\log\\left( \\frac{[{\\rm H}^+]_{\\rm outside}}\n",
    "          { [{\\rm H}^+]_{\\rm inside}} \\right)^{n_A} \\, .\n",
    "\\end{equation}\n",
    "This free energy is sometimes called the *proton motive force*. The last term on the right-hand side represents the contribution to the proton-transport free energy from a gradient in pH across the inner mitochondrial membrane.\n",
    "\n",
    "The free energy of coupled ATP synthsis and proton transport is\n",
    "\\begin{equation}\n",
    "  \\Delta G_r = \\Delta G_\\mathrm{ATP}^0 - RT \\log\\left( \\frac{[{\\rm HPO}_4^{2-}][{\\rm ADP}^{3-}]}\n",
    "      {[{\\rm ATP}^{4-}]} \\right) -n_A F\\Delta\\Psi - RT \\log \\frac{\\left( [{\\rm H}^+]_{\\rm outside}\\right)^{n_A}}\n",
    "          {\\left( [{\\rm H}^+]_{\\rm inside}\\right)^{n_A-1}}  \\, .\n",
    "\\end{equation}\n",
    "\n",
    "Chemical equilibrium occurs when $\\Delta G_r = 0$, that is, \n",
    "\\begin{equation}\n",
    "  \\left( \\frac{[{\\rm ATP}^{4-}]}{[{\\rm HPO}_4^{2-}][{\\rm ADP}^{3-}]}\n",
    "       \\right)_{eq} = \\exp\\left[-\\left( \\Delta G_\\mathrm{ATP}^0 - n_A F\\Delta\\Psi \\right)/RT \\right]\\cdot\n",
    "      \\frac{\\left( [{\\rm H}^+]_{\\rm outside}\\right)^{n_A}}\n",
    "          {\\left( [{\\rm H}^+]_{\\rm inside}\\right)^{n_A-1}} \\, ,\n",
    "\\end{equation}\n",
    "or in terms of sums of species\n",
    "\\begin{equation}\n",
    "  K'_{\\mathrm{F}_1 \\mathrm{F}_0 \\mathrm{ATPase}} = \n",
    "  \\left( \\frac{[\\Sigma{\\rm ATP}]}{[\\Sigma{\\rm Pi}][\\Sigma{\\rm ADP}]}\n",
    "       \\right)_{eq} = \\exp\\left[-\\left( \\Delta G_\\mathrm{ATP}^0 - n_A F\\Delta\\Psi \\right)/RT \\right]\n",
    "       \\frac{P_\\mathrm{ATP}}{P_\\mathrm{ADP} P_\\mathrm{Pi}}\n",
    "      \\frac{\\left( [{\\rm H}^+]_{\\rm outside}\\right)^{n_A}}\n",
    "          {\\left( [{\\rm H}^+]_{\\rm inside}\\right)^{n_A-1}} \\, .\n",
    "\\end{equation}\n",
    "\n",
    "A simple mass-action expression for the reaction flux that satisfies this thermodynamic relation is\n",
    "\\begin{equation}\n",
    "  J_{\\mathrm{F}_1\\mathrm{F}_0\\mathrm{ATPase}} = k_r\\left( K'_{\\mathrm{F}_1\\mathrm{F}_0\\mathrm{ATPase}}[\\Sigma{\\rm Pi}][\\Sigma{\\rm ADP}] - [\\Sigma{\\rm ATP}] \\right), \n",
    "\\end{equation}\n",
    "where \n",
    "\\begin{eqnarray} \n",
    "  \\frac{\\mathrm{d}}{\\mathrm{dt}} [\\Sigma \\mathrm{ATP}] &=& J_{\\mathrm{F}_1\\mathrm{F}_0\\mathrm{ATPase}} \\\\ \n",
    "  \\frac{\\mathrm{d}}{\\mathrm{dt}} [\\Sigma \\mathrm{ADP}] &=& -J_{\\mathrm{F}_1\\mathrm{F}_0\\mathrm{ATPase}} \\\\\n",
    "  \\frac{\\mathrm{d}}{\\mathrm{dt}} [\\Sigma \\mathrm{Pi}] &=& -J_{\\mathrm{F}_1\\mathrm{F}_0\\mathrm{ATPase}} \\\\ \n",
    "\\end{eqnarray}\n",
    "  \n",
    " "
   ]
  },
  {
   "cell_type": "markdown",
   "metadata": {
    "colab_type": "text",
    "id": "4S9JfYASM2bC"
   },
   "source": [
    "\n",
    "\n",
    "\n",
    "\n",
    "\n",
    "\n",
    "\n",
    "## 2.6. Write a simple program that simulates the kinetics of [$\\Sigma$ADP], [$\\Sigma$ATP] , and [$\\Sigma$Pi] in the matrix given a fixed membrane potential, pH, and magnesium concentration, and given arbitrary initial conditions. How do the predicted steady-state concentrations depend on membrane potential, pH, and magnesium concentration?\n",
    "\n"
   ]
  },
  {
   "cell_type": "code",
   "execution_count": 574,
   "metadata": {
    "colab": {},
    "colab_type": "code",
    "id": "pmHbA4DYM2bC"
   },
   "outputs": [],
   "source": [
    "import numpy as np\n",
    "from scipy.integrate import odeint\n",
    "import matplotlib.pyplot as plt\n",
    "import math as mt\n",
    "# init_conditions = ATP, ADP, P\n",
    "# ATP, ADP, P = init_conditions \n",
    "# Psi input in mV\n",
    "def J_ATPase(psi, pH_inner, pH_outer, Mg, concentrations):\n",
    "    # Define initial conditions \n",
    "    ATP, ADP, Pi  = concentrations \n",
    "    \n",
    "    k_r = 1 # assumption\n",
    "    n_A = 8/3\n",
    "\n",
    "    # Dissociation Constants\n",
    "    K_HATP = 2.757e-7\n",
    "    K_KATP = 9.809e-2\n",
    "    K_MATP = 8.430e-5\n",
    "    K_HADP = 4.106e-7\n",
    "    K_KADP = 1.319e-1\n",
    "    K_MADP = 7.149e-4\n",
    "    K_HPI  = 2.308e-7\n",
    "    K_KPI  = 3.803e-1\n",
    "    K_MPI  = 2.815e-2\n",
    "    \n",
    "    # H concentrations \n",
    "    H_x = 10**(-pH_inner)\n",
    "    H_e = 10**(-pH_outter)\n",
    "    \n",
    "    # binding polynomials:\n",
    "    P_ATP = 1 + H/K_HATP + Mg/K_MATP\n",
    "    P_ADP = 1 + H/K_HADP + Mg/K_MADP\n",
    "    P_PI = 1 + H/K_HPI + Mg/K_MPI\n",
    "    \n",
    "    # Other constants\n",
    "    DGr0 = -4670\n",
    "    RT = 310.15*8.3145\n",
    "    F = 96485.33  # C/mole\n",
    "    \n",
    "    # Define K'_F1F0ATPase\n",
    "    k_prime = np.exp(-(DGr0 - F * psi * n_A)/(RT))*P_ATP/(P_ADP*P_PI)*H_e**n_A / H_x**(n_A-1) \n",
    "    J = k_r*(k_prime*Pi * ADP - ATP)\n",
    "\n",
    "    return J\n",
    "    "
   ]
  },
  {
   "cell_type": "code",
   "execution_count": 575,
   "metadata": {
    "colab": {},
    "colab_type": "code",
    "id": "Px0yr0loM2bG"
   },
   "outputs": [],
   "source": [
    "pH_outer = 7.2\n",
    "pH_inner = 7.4\n",
    "\n",
    "Mg  = 1e-3        # M\n",
    "ATP = 0.5e-3      # M\n",
    "ADP = 9.5e-3      # M\n",
    "Pi  = 1e-3        # M\n",
    "Mg  = 1e-3        # M\n",
    "H   = 10**(-7.2)  # M\n",
    "K   = 100e-3      # M\n",
    "\n",
    "psi = 180 / 1000  # Convert to V \n",
    "\n",
    "init_conditions = np.array([ATP, ADP, Pi])\n",
    "# J_ATPase(psi, pH_inner, pH_outter, Mg, init_conditions)\n",
    "def dSTATES_dt(STATES, t, psi, pH_inner, pH_outer, Mg):\n",
    "    rate = J_ATPase(psi, pH_inner, pH_outter, Mg, STATES)\n",
    "    dATP = rate\n",
    "    dADP = - rate\n",
    "    dPi = - rate\n",
    "\n",
    "    dxdt = (dATP, dADP, dPi)\n",
    "    return dxdt"
   ]
  },
  {
   "cell_type": "code",
   "execution_count": 576,
   "metadata": {
    "colab": {
     "base_uri": "https://localhost:8080/",
     "height": 283
    },
    "colab_type": "code",
    "id": "YyASDyGVM2bJ",
    "outputId": "90fe0c9a-8485-43b0-c5f4-67db4dd6b43e"
   },
   "outputs": [
    {
     "data": {
      "text/plain": [
       "0.10796424425351572"
      ]
     },
     "execution_count": 576,
     "metadata": {},
     "output_type": "execute_result"
    },
    {
     "data": {
      "image/png": "[encoded data removed]",
      "text/plain": [
       "<Figure size 432x288 with 1 Axes>"
      ]
     },
     "metadata": {
      "needs_background": "light"
     },
     "output_type": "display_data"
    }
   ],
   "source": [
    "pH_outter = 7.2\n",
    "pH_inner = 7.4\n",
    "Mg  = 1e-3\n",
    "psi = 180 / 1000\n",
    "\n",
    "t = np.linspace(0,10)\n",
    "\n",
    "dSTATES_dt(init_conditions, t, psi, pH_inner, pH_outer, Mg)\n",
    "\n",
    "ode_results = odeint(dSTATES_dt,init_conditions, t, (psi, pH_inner, pH_outer, Mg)).T\n",
    "plt.plot(t,ode_results[0], label = 'ATP')\n",
    "plt.plot(t,ode_results[1], label = 'ADP')\n",
    "plt.plot(t,ode_results[2], label = 'Pi')\n",
    "\n",
    "plt.legend()\n",
    "ode_results[:,-1][0]/ode_results[:,-1][1] "
   ]
  },
  {
   "cell_type": "code",
   "execution_count": 577,
   "metadata": {
    "colab": {
     "base_uri": "https://localhost:8080/",
     "height": 35
    },
    "colab_type": "code",
    "id": "8RX57POOM2bL",
    "outputId": "09c7371b-3ef2-4911-ebfe-ee57c26e55e1"
   },
   "outputs": [
    {
     "data": {
      "text/plain": [
       "-4150.325422837771"
      ]
     },
     "execution_count": 577,
     "metadata": {},
     "output_type": "execute_result"
    }
   ],
   "source": [
    "RT*np.log(0.2)"
   ]
  },
  {
   "cell_type": "markdown",
   "metadata": {
    "colab_type": "text",
    "id": "arXdgjvKM2bN"
   },
   "source": [
    "### Mg Analysis"
   ]
  },
  {
   "cell_type": "code",
   "execution_count": 578,
   "metadata": {
    "colab": {
     "base_uri": "https://localhost:8080/",
     "height": 268
    },
    "colab_type": "code",
    "id": "SmqaKOGLM2bP",
    "outputId": "c4f1808b-5904-4815-bd2a-91b823b9b6a9",
    "scrolled": true
   },
   "outputs": [
    {
     "data": {
      "image/png": "[encoded data removed]",
      "text/plain": [
       "<Figure size 432x288 with 1 Axes>"
      ]
     },
     "metadata": {
      "needs_background": "light"
     },
     "output_type": "display_data"
    }
   ],
   "source": [
    "Mg_array = np.linspace(1e-4, 1e-2)\n",
    "SS_end = []\n",
    "for Mg in Mg_array:\n",
    "    ode_results = odeint(dSTATES_dt,init_conditions, t, (psi, pH_inner, pH_outter, Mg)).T\n",
    "    SS_end.append(ode_results[:,-1])\n",
    "SS_end= np.array(SS_end)\n",
    "\n",
    "plt.figure()\n",
    "plt.plot(Mg_array,SS_end[:,0])\n",
    "Mg  = 1e-3"
   ]
  },
  {
   "cell_type": "markdown",
   "metadata": {
    "colab_type": "text",
    "id": "rZVZBMSJM2bR"
   },
   "source": [
    "### Psi Analysis"
   ]
  },
  {
   "cell_type": "code",
   "execution_count": 579,
   "metadata": {
    "colab": {
     "base_uri": "https://localhost:8080/",
     "height": 265
    },
    "colab_type": "code",
    "id": "IXu7DMyFM2bR",
    "outputId": "deba7a68-3729-4e5a-c60b-9efbb1a86b84"
   },
   "outputs": [
    {
     "data": {
      "image/png": "[encoded data removed]",
      "text/plain": [
       "<Figure size 432x288 with 1 Axes>"
      ]
     },
     "metadata": {
      "needs_background": "light"
     },
     "output_type": "display_data"
    }
   ],
   "source": [
    "psi_array = np.linspace(120, 220) / 1000 # convert to V\n",
    "SS_end = []\n",
    "for psi in psi_array:\n",
    "    ode_results = odeint(dSTATES_dt,init_conditions, t, (psi, pH_inner, pH_outer, Mg)).T\n",
    "    SS_end.append(ode_results[:,-1])\n",
    "SS_end= np.array(SS_end)\n",
    "\n",
    "\n",
    "plt.figure()\n",
    "plt.plot(psi_array*1000,SS_end[:,0])\n",
    "plt.plot(psi_array*1000,SS_end[:,1])\n",
    "plt.plot(psi_array*1000,SS_end[:,2])\n",
    "psi  = 180"
   ]
  },
  {
   "cell_type": "markdown",
   "metadata": {
    "colab_type": "text",
    "id": "xrjXHVEVM2bT"
   },
   "source": [
    "### Inner pH"
   ]
  },
  {
   "cell_type": "code",
   "execution_count": 580,
   "metadata": {
    "colab": {
     "base_uri": "https://localhost:8080/",
     "height": 286
    },
    "colab_type": "code",
    "id": "DOXR7T-QM2bT",
    "outputId": "5b69c54b-c9fa-4692-c9e6-33e30826de83"
   },
   "outputs": [
    {
     "data": {
      "text/plain": [
       "[<matplotlib.lines.Line2D at 0x1524fb60d0>]"
      ]
     },
     "execution_count": 580,
     "metadata": {},
     "output_type": "execute_result"
    },
    {
     "data": {
      "image/png": "[encoded data removed]",
      "text/plain": [
       "<Figure size 432x288 with 1 Axes>"
      ]
     },
     "metadata": {
      "needs_background": "light"
     },
     "output_type": "display_data"
    }
   ],
   "source": [
    "psi  = 180 / 1000 \n",
    "\n",
    "pH_array = np.linspace(7, 8)\n",
    "SS_end = []\n",
    "for pH_inner in pH_array:\n",
    "    ode_results = odeint(dSTATES_dt,init_conditions, t, (psi, pH_inner, pH_outer, Mg)).T\n",
    "    SS_end.append(ode_results[:,-1])\n",
    "SS_end= np.array(SS_end)\n",
    "\n",
    "\n",
    "plt.figure()\n",
    "plt.plot(pH_array,SS_end[:,0])\n",
    "plt.plot(pH_array,SS_end[:,1])\n",
    "plt.plot(pH_array,SS_end[:,2])\n"
   ]
  },
  {
   "cell_type": "markdown",
   "metadata": {
    "colab_type": "text",
    "id": "T5yMzUjYM2bW"
   },
   "source": [
    "\n",
    "# 3. Adenine nucleotide translocase (ANT)\n",
    "\n",
    "## Buiding on the model developed in the previous section, add an extramitochondrial cytoplasmic compartment coupled to the mitochondria with the kinetic model for the ANT of Bazil et al. https://doi.org/10.1016/j.bpj.2015.09.036. (The model formulation and kinetic parameters are in the supplementary material for the paper.) With constant $\\Delta\\Psi$ and inorganic phosphate concentrations, simulate how matrix and cytoplasmic ATP and ADP concentration depend on cytoplasmic ATP hydrolysis rate.\n"
   ]
  },
  {
   "cell_type": "markdown",
   "metadata": {
    "colab_type": "text",
    "id": "xjbK7d6YM2bX"
   },
   "source": [
    "The biochemical equation for the ANT is \n",
    "\\begin{equation}\n",
    "\t{\\rm ATP}_{x} + {\\rm ADP}_{e} \\leftrightharpoons\n",
    "    {\\rm ATP}_{e} + {\\rm ADP}_{x},\t\t\t\t\n",
    "\\end{equation}\n",
    "where the subscripts $x$ and $e$ denote mitochondrial matrix and extramitochondrial, respectively. Then, from Bazil et al. the flux is\n",
    "\\begin{equation}\n",
    "  \\ J_\\mathrm{ANT} =  - E_{ANT} \\dfrac{ \n",
    "    k_2^\\mathrm{ANT} q \\frac{ [\\mathrm{ATP}^{4-}]_x [\\mathrm{ADP}^{3-}]_e }{ K_o^D } - \n",
    "    k_3^\\mathrm{ANT} \\frac{ [\\mathrm{ATP}^{4-}]_e [\\mathrm{ADP}^{3-}]_x }{ K_o^T } }{ \n",
    "      \\left( 1 + \\frac{ [\\mathrm{ATP}^{4-}]_e }{ K_o^T } + \\frac{ [\\mathrm{ADP}^{3-}] }{ K_o^D } \\right) \\left( [\\mathrm{ATP}^{4-}]_x + q [\\mathrm{ADP}^{3-}]_x \\right) \n",
    "    } , \n",
    "\\end{equation}\n",
    "where \n",
    "\\begin{eqnarray} \n",
    "  k_2^\\mathrm{ANT} &=& k_2^{\\mathrm{ANT}, o} e^{ (-3 \\alpha_1 - 4 \\alpha_2 + \\alpha_3) \\frac{F \\Delta \\Psi}{RT}} \\\\ \n",
    "  k_3^\\mathrm{ANT} &=& k_3^{\\mathrm{ANT}, o} e^{ (-4 \\alpha_1 - 3 \\alpha_2 + \\alpha_3) \\frac{F \\Delta \\Psi}{RT}}\\\\ \n",
    "  K_o^D &=& K_o^{D,o} e^{ 3 \\delta_D \\frac{RT}{F \\Delta\\Psi}} \\\\ \n",
    "  K_o^T &=& K_o^{T,o} e^{ 4 \\delta_T \\frac{RT}{F \\Delta\\Psi}} \\quad \\text{and} \\\\ \n",
    "  q &=& \\frac{ k_3^{\\mathrm{ANT}} K_o^D }{ k_2^\\mathrm{ANT} K_o^T } e^{ \\frac{F \\Delta\\Psi }{ RT } }.\n",
    "\\end{eqnarray} \n",
    "\n",
    "The parameters values can be found in the following table: \n",
    "\n",
    "| Parameter | Unit | Value | \n",
    "| -- | -- | -- |\n",
    "| $E_\\mathrm{ANT}$ | M | 0.141 | \n",
    "| $k_2^{\\mathrm{ANT},o}$ | s$^{-1}$ | 0.159 | \n",
    "| $k_3^{\\mathrm{ANT},o}$ | s$^{-1}$ | 0.501 | \n",
    "| $K_o^{D,o}$ | $\\mu$M | 38.89 | \n",
    "| $K_o^{T,o}$ | $\\mu$M | 56.05 |\n",
    "| $\\alpha_1$  |        | 0.2829 | \n",
    "| $\\alpha_2$  |        | -0.2086|\n",
    "| $\\alpha_3$  |        | 0.2372 | \n",
    "| $\\delta_T$  |        | 0.0167 | \n",
    "| $\\delta_D$  |        | 0.0699 | \n",
    "\n",
    " "
   ]
  },
  {
   "cell_type": "code",
   "execution_count": 581,
   "metadata": {
    "colab": {},
    "colab_type": "code",
    "id": "jYB1uvXVM2bE"
   },
   "outputs": [],
   "source": [
    "def J_ANT(psi, pH_inner, pH_outer, Mg, concentrations):\n",
    "    # Define initial conditions \n",
    "    ATPx, ADPx, Pix , ATPe, ADPe, Pie, Cre = concentrations \n",
    "\n",
    "    E_ANT = 0.141           # mol (L mito)^(-1)\n",
    "    k2_ANT_o = 9.54 / 60      # s^(-1) \n",
    "    k3_ANT_o = 30.05/60       # s^(-1)\n",
    "    Ko_Do = 38.89e-6    # microM\n",
    "    Ko_To = 56.05e-6    # microM\n",
    "    alpha_1 = 0.2829\n",
    "    alpha_2 = -0.2086\n",
    "    alpha_3 = 0.2372\n",
    "    delta_T = 0.0167 \n",
    "    delta_D = 0.0699\n",
    "\n",
    "    F = 96485.33            # C mol^(-1)\n",
    "    RT = 310.15*8.3145\n",
    "    fi = F*psi/RT\n",
    "  \n",
    "    k2_ANT = k2_ANT_o*mt.exp((alpha_1*(-3)+alpha_2*(-4)+alpha_3)*fi)\n",
    "    k3_ANT = k3_ANT_o*mt.exp((alpha_1*(-4)+alpha_2*(-3)+alpha_3)*fi)\n",
    "\n",
    "    Ko_D = Ko_Do * mt.exp(3*delta_D*fi)\n",
    "    Ko_T = Ko_To * mt.exp(4*delta_T*fi)\n",
    "    q = k3_ANT * Ko_D * mt.exp(fi) / (k2_ANT * Ko_T)\n",
    "  \n",
    "    num = k2_ANT * q * ATPx * ADPe / Ko_D - k3_ANT * ATPe * ADPx / Ko_T\n",
    "    den = (1 + ATPe/Ko_T + ADPe/Ko_D) * (ADPx + q * ATPx)\n",
    "    J = E_ANT * num / den\n",
    "    \n",
    "    return J\n",
    "    "
   ]
  },
  {
   "cell_type": "code",
   "execution_count": 582,
   "metadata": {
    "colab": {},
    "colab_type": "code",
    "id": "UdnBXXeIPco1"
   },
   "outputs": [],
   "source": [
    "import numpy as np\n",
    "from scipy.integrate import odeint\n",
    "import matplotlib.pyplot as plt\n",
    "import math as mt\n",
    "\n",
    "def J_F1F0(psi, pH_inner, pH_outer, Mg, concentrations):\n",
    "    # Define initial conditions \n",
    "    ATPx, ADPx, Pix , ATPe, ADPe, Pie, Cre = concentrations \n",
    "    \n",
    "    # Assume k_r = 1\n",
    "    k_r = 1 # assumption\n",
    "    n_A = 8/3\n",
    "\n",
    "    # Dissociation Constants\n",
    "    K_HATP = 2.757e-7\n",
    "    K_KATP = 9.809e-2\n",
    "    K_MATP = 8.430e-5\n",
    "    K_HADP = 4.106e-7\n",
    "    K_KADP = 1.319e-1\n",
    "    K_MADP = 7.149e-4\n",
    "    K_HPI  = 2.308e-7\n",
    "    K_KPI  = 3.803e-1\n",
    "    K_MPI  = 2.815e-2\n",
    "\n",
    "    # Other constants\n",
    "    DGr0 = -4670\n",
    "    RT = 310.15*8.3145\n",
    "    F = 96485.33  # C/mole\n",
    "    \n",
    "    # H concentrations \n",
    "    H_x = 10**(-pH_inner)\n",
    "    H_e = 10**(-pH_outter)\n",
    "    \n",
    "    # binding polynomials:\n",
    "    P_ATP = 1 + H_x/K_HATP + Mg/K_MATP\n",
    "    P_ADP = 1 + H_x/K_HADP + Mg/K_MADP\n",
    "    P_PI  = 1 + H_x/K_HPI  + Mg/K_MPI\n",
    "    \n",
    "    # Define K'_F1F0ATPase\n",
    "    k_prime = np.exp(-(DGr0 - F * psi * n_A)/(RT))*P_ATP/(P_ADP*P_PI)*H_e**n_A / H_x**(n_A-1) \n",
    "    J = k_r*(k_prime*Pix * ADPx - ATPx)\n",
    "    \n",
    "    return J\n",
    "    "
   ]
  },
  {
   "cell_type": "code",
   "execution_count": 583,
   "metadata": {},
   "outputs": [],
   "source": [
    "\n",
    "def J_ATPase(psi, pH_inner, pH_outer, Mg, concentrations):\n",
    "    # Define initial conditions \n",
    "    ATPx, ADPx, Pix , ATPe, ADPe, Pie, Cre = concentrations \n",
    "    H_x = 10**(-pH_inner)\n",
    "    H_e = 10**(-pH_outter)\n",
    "    RT = 310.15*8.3145\n",
    "\n",
    "    # Dissociation Constants\n",
    "    K_HATP = 2.757e-7\n",
    "    K_KATP = 9.809e-2\n",
    "    K_MATP = 8.430e-5\n",
    "    K_HADP = 4.106e-7\n",
    "    K_KADP = 1.319e-1\n",
    "    K_MADP = 7.149e-4\n",
    "    K_HPI  = 2.308e-7\n",
    "    K_KPI  = 3.803e-1\n",
    "    K_MPI  = 2.815e-2\n",
    "\n",
    "    \n",
    "    X_ATPase = 0.01 # U/ml\n",
    "    K_iADP = 2.41e-4 # M\n",
    "    DGr0_ATPase = 4510 # Joules/mol\n",
    "     # binding polynomials:\n",
    "    P_ATP = 1 + H_e/K_HATP + Mg/K_MATP\n",
    "    P_ADP = 1 + H_e/K_HADP + Mg/K_MADP\n",
    "    P_PI  = 1 + H_e/K_HPI  + Mg/K_MPI\n",
    "    \n",
    "    Keq = mt.exp(-DGr0_ATPase/RT)/ (H_e) * ((P_ADP * P_PI)/P_ATP)\n",
    "    \n",
    "    J = X_ATPase * (1 - (ADPe * Pie)/(ATPe * Keq))/(1 + ADPe/K_iADP)\n",
    "    return J"
   ]
  },
  {
   "cell_type": "code",
   "execution_count": 584,
   "metadata": {},
   "outputs": [],
   "source": [
    "\n",
    "def J_PiC(psi, pH_inner, pH_outer, Mg, concentrations):\n",
    "    # Define initial conditions \n",
    "    ATPx, ADPx, Pix , ATPe, ADPe, Pie, Cre = concentrations \n",
    "    H_x = 10**(-pH_inner)\n",
    "    H_e = 10**(-pH_outter)\n",
    "    \n",
    "    \n",
    "    X_PiC = 3.34e7*1 #mol/s/M/lmito\n",
    "    k_PiC = 1.61 # mM\n",
    "    J = - X_PiC *(Pix * H_x - Pie * H_e)/(Pie + k_PiC )\n",
    "    return J"
   ]
  },
  {
   "cell_type": "code",
   "execution_count": 585,
   "metadata": {},
   "outputs": [],
   "source": [
    "def J_CK(psi, pH_inner, pH_outer, Mg, concentrations):\n",
    "    # Define initial conditions \n",
    "    ATPx, ADPx, Pix , ATPe, ADPe, Pie, Cr = concentrations \n",
    "    H_x = 10**(-pH_inner)\n",
    "    H_e = 10**(-pH_outter)\n",
    "    \n",
    "    DGr0_CK = -7910 # j/mol\n",
    "    X_CK = 1e3 #M/s\n",
    "    RT = 310.15*8.3145\n",
    "    kref = 7.14e8 # Wu eta al 2008\n",
    "    # Dissociation Constants\n",
    "    K_HATP = 2.757e-7\n",
    "    K_KATP = 9.809e-2\n",
    "    K_MATP = 8.430e-5\n",
    "    K_HADP = 4.106e-7\n",
    "    K_KADP = 1.319e-1\n",
    "    K_MADP = 7.149e-4\n",
    "    K_HPI  = 2.308e-7\n",
    "    K_KPI  = 3.803e-1\n",
    "    K_MPI  = 2.815e-2\n",
    "    \n",
    "    Crtot = 20e-3 # total creatin \n",
    "    PCre = Crtot - Cre #\n",
    "    # binding polynomials:\n",
    "    P_ATP = 1 + H_e/K_HATP + Mg/K_MATP\n",
    "    P_ADP = 1 + H_e/K_HADP + Mg/K_MADP\n",
    "    keq = kref*H_e*(P_ATP/P_ADP)\n",
    "    #keq = mt.exp(-DGr0_CK/RT)*H_e*(P_ATP/P_ADP)\n",
    "    J = X_CK *(keq * ADPe *PCre - ATPe * Cre)\n",
    "    return J"
   ]
  },
  {
   "cell_type": "code",
   "execution_count": 586,
   "metadata": {
    "colab": {},
    "colab_type": "code",
    "id": "JDUEwLqbM2bZ"
   },
   "outputs": [],
   "source": [
    "pH_outer = 7.2\n",
    "pH_inner = 7.4\n",
    "\n",
    "psi = 180 / 1000 \n",
    "\n",
    "ATPx = 0.5e-3\n",
    "ADPx = 9.5e-3\n",
    "Pix   = 1e-3\n",
    "ATPe = 7.5e-3\n",
    "ADPe = 0.05e-3\n",
    "Pie   = 0.3e-3\n",
    "Crtot = 20e-3 # total creatin \n",
    "Cre = 0.7 * Crtot; \n",
    "\n",
    "Mg  = 1e-3\n",
    "H   = 10**(-7.2)\n",
    "K   = 100e-3\n",
    "\n",
    "# Volumes \n",
    "Ve = 2  #4.54e3\n",
    "Vx = 1  # 0.65\n",
    "\n",
    "init_conditions = np.array([ATPx, ADPx, Pix, ATPe, ADPe, Pie, Cre])\n",
    "# J_ATPase(psi, pH_inner, pH_outter, Mg, init_conditions)\n",
    "def dSTATES_dt(STATES, t, psi, pH_inner, pH_outer, Mg):\n",
    "    \n",
    "    F1F0 = J_F1F0(psi, pH_inner, pH_outter, Mg, STATES)\n",
    "    ANT  = J_ANT(psi, pH_inner, pH_outer, Mg, STATES)\n",
    "    PiC =  J_PiC(psi, pH_inner, pH_outer, Mg, STATES) \n",
    "    \n",
    "    ATPase = J_ATPase(psi, pH_inner, pH_outer, Mg, STATES)\n",
    "    CK = J_CK(psi, pH_inner, pH_outer, Mg, STATES)\n",
    "\n",
    "    dATPx = (F1F0 - ANT) / Vx \n",
    "    dADPx = (-F1F0 + ANT) / Vx \n",
    "    dPix   = (PiC-F1F0)/Vx\n",
    "    dATPe = ANT / Ve - ATPase + CK \n",
    "    dADPe = - ANT / Ve + ATPase - CK\n",
    "    dPie = - PiC / Ve + ATPase\n",
    "    dCre = CK\n",
    "    #dPCre = PCre - (Crtot - Cre)/1e20\n",
    "\n",
    "    dxdt = (dATPx, dADPx, dPix, dATPe, dADPe, dPie, dCre) \n",
    "    return dxdt"
   ]
  },
  {
   "cell_type": "code",
   "execution_count": 587,
   "metadata": {
    "colab": {
     "base_uri": "https://localhost:8080/",
     "height": 284
    },
    "colab_type": "code",
    "id": "IhMk8iNWN1VT",
    "outputId": "a65e1ddb-4430-45d7-cd73-0c192306c971"
   },
   "outputs": [
    {
     "data": {
      "image/png": "[encoded data removed]",
      "text/plain": [
       "<Figure size 432x288 with 1 Axes>"
      ]
     },
     "metadata": {
      "needs_background": "light"
     },
     "output_type": "display_data"
    }
   ],
   "source": [
    "pH_outter = 7.2\n",
    "pH_inner = 7.4\n",
    "Mg  = 1e-3\n",
    "psi = 180 / 1000 \n",
    "\n",
    "t = np.linspace(0,10)\n",
    "\n",
    "dSTATES_dt(init_conditions, t, psi, pH_inner, pH_outter, Mg)\n",
    "\n",
    "ode_results = odeint(dSTATES_dt,init_conditions, t, (psi, pH_inner, pH_outter, Mg)).T\n",
    "plt.plot(t,ode_results[0] * 1000, label = 'ATP_x')\n",
    "plt.plot(t,ode_results[1] * 1000, label = 'ADP_x')\n",
    "plt.plot(t,ode_results[2] * 1000, label = 'Pi_x')\n",
    "plt.plot(t,ode_results[3] * 1000, label = 'ATP_e')\n",
    "plt.plot(t,ode_results[4] * 1000, label = 'ADP_e')\n",
    "plt.plot(t,ode_results[5] * 1000, label = 'Pi_e')\n",
    "plt.plot(t,ode_results[6] * 1000, label = 'Cre')\n",
    "\n",
    "plt.legend(fontsize=12)\n",
    "plt.ylabel('Concentration (mM)', fontsize=16)\n",
    "plt.xlabel('Time (s)', fontsize=16)\n",
    "plt.legend(bbox_to_anchor=(1.2, 0.5))\n",
    "Mg  = 1e-3\n"
   ]
  },
  {
   "cell_type": "markdown",
   "metadata": {
    "colab_type": "text",
    "id": "Wwq7xhhGoH3r"
   },
   "source": [
    "# 4. Phosphate transport "
   ]
  },
  {
   "cell_type": "markdown",
   "metadata": {
    "colab_type": "text",
    "id": "B2Z38EddoJPF"
   },
   "source": []
  },
  {
   "cell_type": "markdown",
   "metadata": {
    "colab_type": "text",
    "id": "90iGh_NWv-BF"
   },
   "source": [
    "# 5. Cytoplasmic creatine kinase \n",
    "\n",
    "## Add cytoplasmic creatine kinase and simulate how steady-state energetic state varies with ATP hydrolysis rate. Plot predicted CrP/ATP ratio as a function of myocardial MVO2."
   ]
  },
  {
   "cell_type": "markdown",
   "metadata": {
    "colab_type": "text",
    "id": "RnZwH9SloLTH"
   },
   "source": []
  }
 ],
 "metadata": {
  "colab": {
   "collapsed_sections": [],
   "name": "Quantitative Aspects of Mitochondrial Function.ipynb",
   "provenance": []
  },
  "kernelspec": {
   "display_name": "Python 3",
   "language": "python",
   "name": "python3"
  },
  "language_info": {
   "codemirror_mode": {
    "name": "ipython",
    "version": 3
   },
   "file_extension": ".py",
   "mimetype": "text/x-python",
   "name": "python",
   "nbconvert_exporter": "python",
   "pygments_lexer": "ipython3",
   "version": "3.7.6"
  }
 },
 "nbformat": 4,
 "nbformat_minor": 1
}
