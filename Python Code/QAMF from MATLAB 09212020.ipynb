{
 "cells": [
  {
   "cell_type": "code",
   "execution_count": 1,
   "metadata": {},
   "outputs": [],
   "source": [
    "import numpy as np\n",
    "from scipy.integrate import odeint\n",
    "import matplotlib.pyplot as plt\n",
    "import math as mt"
   ]
  },
  {
   "cell_type": "markdown",
   "metadata": {},
   "source": [
    "### Initial Conditions Definition for Function Testing "
   ]
  },
  {
   "cell_type": "code",
   "execution_count": 2,
   "metadata": {},
   "outputs": [
    {
     "name": "stdout",
     "output_type": "stream",
     "text": [
      "\n"
     ]
    }
   ],
   "source": [
    "\n",
    "# Initial Testing Conditions \n",
    "\n",
    "# Constants\n",
    "R = 8.3145 # J / mol K\n",
    "T = 310.15 # K\n",
    "RT = R*T\n",
    "F = 96485.33 # C/mole\n",
    "\n",
    "# Volumes\n",
    "Ve = 0.8425 #2 #4.54e3  # L cyto water / L cyto\n",
    "Vx = 0.650 # 1 #0.65  # L matrix water/ L mito\n",
    "Vi = Vx / .9 * .1 # L intermembrane space water / L mito\n",
    "\n",
    "# Compartment Volumes\n",
    "Vcyto = 0.6801 # L / L tissue\n",
    "Vmito = 0.2882 # L / L tissue\n",
    "\n",
    "# Dissociation Constants\n",
    "K_HATP = 2.757e-7\n",
    "K_KATP = 9.809e-2\n",
    "K_MATP = 8.430e-5\n",
    "K_HADP = 4.106e-7\n",
    "K_KADP = 1.319e-1\n",
    "K_MADP = 7.149e-4\n",
    "K_HPi  = 2.308e-7\n",
    "K_KPi  = 3.803e-1\n",
    "K_MPi  = 2.815e-2\n",
    "dissoc_constants = np.array([K_HATP, K_KATP, K_MATP, K_HADP, K_KADP,K_MADP, K_HPi, K_KPi, K_MPi])\n",
    "\n",
    "\n",
    "# Conditions\n",
    "pH_outer = 7.2\n",
    "pH_inner = 7.4\n",
    "psi = 175 / 1000\n",
    "\n",
    "Mg  = 1e-3 # M\n",
    "K   = 100e-3 # M\n",
    "H   = 10**(-7.2) # note, redundant b/c we have pH # M\n",
    "O2  = 2.6e-5 # M\n",
    "\n",
    "ATP_x = 1e-3\n",
    "ADP_x = 9e-3\n",
    "Pi_x   = 1e-3\n",
    "ATP_e = 7.5e-3\n",
    "ADP_e = 0.5e-3\n",
    "Pi_e   = 0.5e-3\n",
    "Crtot = 54e-3 # M # 20e-3 # total creatin\n",
    "Cr = 0.65 * Crtot\n",
    "\n",
    "Q_tot    = 1.35e-3\n",
    "QH2   = 0.5 * Q_tot\n",
    "\n",
    "NAD_tot  = 2.97e-3\n",
    "NADH_x = 0.5 * NAD_tot\n",
    "\n",
    "cytc_tot = 2.7e-3\n",
    "cytcred = 0.5 * cytc_tot\n",
    "\n",
    "\n",
    "\n",
    "init_conditions = np.array([ATP_x, ADP_x, Pi_x, ATP_e, ADP_e, Pi_e, Cr, QH2, NADH_x, cytcred, psi])\n",
    "\n",
    "H_x = 10**(-pH_inner)\n",
    "H_e = 10**(-pH_outer)\n",
    "\n",
    "# Binding Polynomials \n",
    "K_HATP, K_KATP, K_MATP, K_HADP, K_KADP,K_MADP, K_HPi, K_KPi, K_MPi = dissoc_constants\n",
    "\n",
    "P_ATPx = 1 + H_x/K_HATP + Mg/K_MATP + K/K_KATP\n",
    "P_ADPx = 1 + H_x/K_HADP + Mg/K_MADP + K/K_KADP\n",
    "P_PIx  = 1 + H_x/K_HPi  + Mg/K_MPi  + K/K_KPi \n",
    "\n",
    "P_ATPe = 1 + H_e/K_HATP + Mg/K_MATP + K/K_KATP;\n",
    "P_ADPe = 1 + H_e/K_HADP + Mg/K_MADP + K/K_KADP;\n",
    "P_PIe  = 1 + H_e/K_HPi  + Mg/K_MPi  + K/K_KPi; \n",
    "\n",
    "binding_polys = np.array([P_ATPx, P_ADPx, P_PIx, P_ATPe, P_ADPe, P_PIe])\n",
    "binding_polys\n",
    "\n",
    "print()"
   ]
  },
  {
   "cell_type": "markdown",
   "metadata": {},
   "source": [
    "### F1F0 ATP Synthase "
   ]
  },
  {
   "cell_type": "code",
   "execution_count": 3,
   "metadata": {},
   "outputs": [],
   "source": [
    "def J_F1F0(pH_inner, pH_outer, Mg, K, binding_polys, concentrations):\n",
    "    # Unpack variables \n",
    "    ATP_x, ADP_x, Pi_x, ATP_e, ADP_e, Pi_e, Cr, QH2, NADH_x, cytcred, psi = concentrations\n",
    "    P_ATPx, P_ADPx, P_PIx, P_ATPe, P_ADPe, P_PIe =  binding_polys\n",
    "    \n",
    "    H_x = 10**(-pH_inner)\n",
    "    H_e = 10**(-pH_outer)\n",
    "    \n",
    "    # Constants\n",
    "    X_F1F0 = 812\n",
    "    n_H = 8/3\n",
    "    DGr0_F1F0 = -4510\n",
    "\n",
    "    Keq_prime_F1F0 = np.exp(-(DGr0_F1F0-F*psi*n_H)/(RT)) * (P_ATPx / (P_ADPx * P_PIx)) * (H_e**n_H / H_x**(n_H - 1))\n",
    "    \n",
    "    flux = X_F1F0 * (Keq_prime_F1F0 * Pi_x * ADP_x - ATP_x)\n",
    "    return flux\n"
   ]
  },
  {
   "cell_type": "markdown",
   "metadata": {},
   "source": [
    "### Adenine Nucleotide Translocator "
   ]
  },
  {
   "cell_type": "code",
   "execution_count": 4,
   "metadata": {},
   "outputs": [],
   "source": [
    "def J_ANT(pH_inner, pH_outer, Mg, K, binding_polys, concentrations):\n",
    "    # Unpack variables \n",
    "    ATP_x, ADP_x, Pi_x, ATP_e, ADP_e, Pi_e, Cr, QH2, NADH_x, cytcred, psi = concentrations\n",
    "    P_ATPx, P_ADPx, P_PIx, P_ATPe, P_ADPe, P_PIe =  binding_polys\n",
    "    H_x = 10**(-pH_inner)\n",
    "    H_e = 10**(-pH_outer)\n",
    "    \n",
    "    x_ANT = 0.141\n",
    "    ADP_i1 = ADP_e/P_ADPe # ADP^3-\n",
    "    ATP_i1 = ATP_e/P_ATPe # ATP^4-\n",
    "    ADP_x1 = ADP_x/P_ADPx # ADP^3-\n",
    "    ATP_x1 = ATP_x/P_ATPx # ATP^4-\n",
    "    del_D = 0.0167\n",
    "    del_T = 0.0699\n",
    "    k2_ANT = 9.54/60\n",
    "    k3_ANT = 30.05/60\n",
    "    K_D_o_ANT = 38.89e-6\n",
    "    K_T_o_ANT = 56.05e-6\n",
    "    A = 0.2829\n",
    "    B = -0.2086\n",
    "    C = 0.2372\n",
    "    fi = F*psi/RT\n",
    "    \n",
    "    k2_ANT_fi = k2_ANT*np.exp((A*(-3)+B*(-4)+C)*fi)\n",
    "    k3_ANT_fi = k3_ANT*np.exp((A*(-4)+B*(-3)+C)*fi)\n",
    "    K_D_o_ANT_fi = K_D_o_ANT*np.exp(3*del_D*fi)\n",
    "    K_T_o_ANT_fi = K_T_o_ANT*np.exp(4*del_T*fi)\n",
    "    q = k3_ANT_fi*K_D_o_ANT_fi*np.exp(fi)/(k2_ANT_fi*K_T_o_ANT_fi)\n",
    "    \n",
    "    term2 = k2_ANT_fi*ATP_x1*ADP_i1*q/K_D_o_ANT_fi\n",
    "    term3 = k3_ANT_fi*ADP_x1*ATP_i1/K_T_o_ANT_fi \n",
    "    num = term2 - term3\n",
    "    den = (1 + ATP_i1/K_T_o_ANT_fi + ADP_i1/K_D_o_ANT_fi)*(ADP_x1 + ATP_x1*q)\n",
    "    flux = x_ANT*num/den\n",
    "    return flux \n",
    "\n"
   ]
  },
  {
   "cell_type": "markdown",
   "metadata": {},
   "source": [
    "### J_ATPase (Consumption in cytoplasm) \n",
    "Note: Ignoring this function for now and using a constant "
   ]
  },
  {
   "cell_type": "code",
   "execution_count": 5,
   "metadata": {},
   "outputs": [],
   "source": [
    "def J_ATPase(pH_inner, pH_outer, Mg, K, binding_polys, init_conditions):\n",
    "    return 0 "
   ]
  },
  {
   "cell_type": "markdown",
   "metadata": {},
   "source": [
    "### Phosphate Transporter "
   ]
  },
  {
   "cell_type": "code",
   "execution_count": 6,
   "metadata": {
    "scrolled": true
   },
   "outputs": [],
   "source": [
    "def J_PiC(pH_inner, pH_outer, Mg, K, binding_polys, concentrations):\n",
    "    # Unpack variables \n",
    "    ATP_x, ADP_x, Pi_x, ATP_e, ADP_e, Pi_e, Cr, QH2, NADH_x, cytcred, psi = concentrations\n",
    "    P_ATPx, P_ADPx, P_PIx, P_ATPe, P_ADPe, P_PIe =  binding_polys\n",
    "    H_x = 10**(-pH_inner)\n",
    "    H_e = 10**(-pH_outer)\n",
    "    \n",
    "    x_PIH = 3.34e7 # mol/s/M/lmito\n",
    "    k_PIH = 1.61e-3\n",
    "    a = Pi_e*(H_e/K_HPi)/P_PIe\n",
    "    p = Pi_x*(H_x/K_HPi)/P_PIx\n",
    "    flux = (x_PIH/k_PIH)*(H_e*a - H_x*p)/(1+a/k_PIH)/(1+k_PIH)\n",
    "    return flux \n",
    "\n",
    "#x = J_PiC(psi, pH_inner, pH_outer, Mg, K, binding_polys, init_conditions)\n",
    "#x"
   ]
  },
  {
   "cell_type": "markdown",
   "metadata": {},
   "source": [
    "### Creatine Kinase "
   ]
  },
  {
   "cell_type": "code",
   "execution_count": 7,
   "metadata": {},
   "outputs": [],
   "source": [
    "def J_CK(pH_inner, pH_outer, Mg, K, binding_polys, concentrations):\n",
    "    # Unpack variables \n",
    "    ATP_x, ADP_x, Pi_x, ATP_e, ADP_e, Pi_e, Cr, QH2, NADH_x, cytcred, psi = concentrations\n",
    "    P_ATPx, P_ADPx, P_PIx, P_ATPe, P_ADPe, P_PIe =  binding_polys\n",
    "    H_x = 10**(-pH_inner)\n",
    "    H_e = 10**(-pH_outer)\n",
    "    CrP = Crtot - Cr\n",
    "    X_CK = 1e6 #M/s\n",
    "    kref = 7.14e8 # Wu et al 2008=\n",
    "    Keq_CK = kref * H_e * P_ATPe / P_ADPe\n",
    "    #Keq_CK = exp(-DGr0_CK / (R * T)) * H_e * P_ATP / P_ADP \n",
    "    '''\n",
    "    Changed from equation in Bazil et al. to include kref from Wu et al 2008.\n",
    "    The original equation has a rate that is much too fast for the current\n",
    "    model\n",
    "    '''    \n",
    "    flux = X_CK * (Keq_CK * ADP_e * CrP - ATP_e * Cr) \n",
    "    return flux \n",
    "\n",
    "#x = J_CK(psi, pH_inner, pH_outer, Mg, K, binding_polys, init_conditions)\n",
    "#x"
   ]
  },
  {
   "cell_type": "markdown",
   "metadata": {
    "pycharm": {
     "name": "#%% md\n"
    }
   },
   "source": [
    "# Complexes 1, 3, 4"
   ]
  },
  {
   "cell_type": "code",
   "execution_count": 8,
   "metadata": {},
   "outputs": [
    {
     "data": {
      "text/plain": [
       "-0.00384893856608563"
      ]
     },
     "execution_count": 8,
     "metadata": {},
     "output_type": "execute_result"
    }
   ],
   "source": [
    "def J_C1(pH_inner, pH_outer, Mg, K, binding_polys, concentrations):\n",
    "    ATP_x, ADP_x, Pi_x, ATP_e, ADP_e, Pi_e, Cr, QH2, NADH_x, cytcred, psi = concentrations\n",
    "    H_x = 10**(-pH_inner)\n",
    "    H_e = 10**(-pH_outer)\n",
    "    H_w = 10**(-7)\n",
    "    NAD_x = NAD_tot - NADH_x\n",
    "    Q = Q_tot - QH2\n",
    "    \n",
    "    DGo_C1 = -69.37 * 1000; # J mol^(-1)\n",
    "    X_C1 = 4405\n",
    "    \n",
    "    DG_H = F * psi + RT * np.log(H_e / H_x)\n",
    "    Keq_C1 = np.exp(-(DGo_C1 + 4 * DG_H - R * T * np.log(H_x / H_w)) / (R * T))\n",
    "    return X_C1 * (Keq_C1 * NADH_x * Q - NAD_x * QH2)\n",
    "    \n",
    "J_C1(pH_inner, pH_outer, Mg, K, binding_polys, init_conditions)\n"
   ]
  },
  {
   "cell_type": "code",
   "execution_count": 9,
   "metadata": {
    "pycharm": {
     "name": "#%%\n"
    }
   },
   "outputs": [
    {
     "data": {
      "text/plain": [
       "-3.662751726832432e-05"
      ]
     },
     "execution_count": 9,
     "metadata": {},
     "output_type": "execute_result"
    }
   ],
   "source": [
    "def J_C3(pH_inner, pH_outer, Mg, K, binding_polys, concentrations):\n",
    "    ATP_x, ADP_x, Pi_x, ATP_e, ADP_e, Pi_e, Cr, QH2, NADH_x, cytcred, psi = concentrations\n",
    "    H_x = 10**(-pH_inner)\n",
    "    H_e = 10**(-pH_outer)\n",
    "    H_w = 10**(-7)\n",
    "    cytcox = cytc_tot - cytcred\n",
    "    Q = Q_tot - QH2\n",
    "\n",
    "    DG_H = F * psi + RT * np.log(H_e / H_x)\n",
    "\n",
    "\n",
    "    \n",
    "    DGo_C3 = -32.53 * 1000 #J mol^(-1)\n",
    "    X_C3 = 4.887\n",
    "    Keq_C3 = np.exp(-(DGo_C3 + 4 * DG_H + 2 * R * T * np.log(H_x / H_w) - 2 * F * psi) / (2 * R * T))\n",
    "    \n",
    "    return X_C3 * (Keq_C3 * cytcox * np.sqrt(QH2) - cytcred * np.sqrt(Q))\n",
    "\n",
    "\n",
    "J_C3(pH_inner, pH_outer, Mg, K, binding_polys, init_conditions)"
   ]
  },
  {
   "cell_type": "code",
   "execution_count": 10,
   "metadata": {
    "pycharm": {
     "name": "#%%\n"
    }
   },
   "outputs": [
    {
     "data": {
      "text/plain": [
       "0.004701041256857492"
      ]
     },
     "execution_count": 10,
     "metadata": {},
     "output_type": "execute_result"
    }
   ],
   "source": [
    "def J_C4(pH_inner, pH_outer, Mg, K, binding_polys, O2,  concentrations):\n",
    "    ATP_x, ADP_x, Pi_x, ATP_e, ADP_e, Pi_e, Cr, QH2, NADH_x, cytcred, psi = concentrations\n",
    "    H_x = 10**(-pH_inner)\n",
    "    H_e = 10**(-pH_outer)\n",
    "    H_w = 10**(-7)\n",
    "    cytcox = cytc_tot - cytcred\n",
    "    DG_H = F * psi + RT * np.log(H_e / H_x)\n",
    "\n",
    "\n",
    "    DGo_C4 = -122.94 * 1000; #J mol^(-1)\n",
    "    X_C4 = 6.766e-5\n",
    "    k_O2   = 120e-6\n",
    "    \n",
    "    Keq_C4 = np.exp(-(DGo_C4 + 2 * DG_H - 2 * R * T * np.log(H_x / H_w)) / (2 * R * T))\n",
    "    f_C4   = (1 / (1 + k_O2 / O2)) * (cytcred / cytc_tot)\n",
    "    \n",
    "    return X_C4 * f_C4 * (Keq_C4 * cytcred * O2**(1/4) - cytcox * np.exp(F * psi / (R * T)));\n",
    "\n",
    "J_C4(pH_inner, pH_outer, Mg, K, binding_polys, O2,  init_conditions)\n"
   ]
  },
  {
   "cell_type": "code",
   "execution_count": 11,
   "metadata": {
    "pycharm": {
     "name": "#%%\n"
    }
   },
   "outputs": [],
   "source": [
    "def J_DH(pH_inner, pH_outer, Mg, K, binding_polys, concentrations):\n",
    "    ATP_x, ADP_x, Pi_x, ATP_e, ADP_e, Pi_e, Cr, QH2, NADH_x, cytcred, psi = concentrations\n",
    "    NAD_x = NAD_tot - NADH_x\n",
    "    r = 4.253 # What is this constant?\n",
    "    X_DH = 0.1099\n",
    "\n",
    "    return X_DH * (r * NAD_x - NADH_x)"
   ]
  },
  {
   "cell_type": "code",
   "execution_count": 12,
   "metadata": {
    "pycharm": {
     "name": "#%%\n"
    }
   },
   "outputs": [],
   "source": [
    "# Y = Concentrations of species \n",
    "# [ATP_x, ADP_x, Pi_x, ATP_e, ADP_e, Pi_e, Cr, QH2, NADH_x, cytcred, psi] = Y\n",
    "def dYdt(Y, t, pH_outer, pH_inner, Mg, K, dissoc_constants, X_ATPase):\n",
    "    # pH \n",
    "    H_x = 10**(-pH_inner)\n",
    "    H_e = 10**(-pH_outer)\n",
    "    n_H = 8/3\n",
    "    \n",
    "    # Binding Polynomials \n",
    "    K_HATP, K_KATP, K_MATP, K_HADP, K_KADP,K_MADP, K_HPi, K_KPi, K_MPi = dissoc_constants\n",
    "    \n",
    "    P_ATPx = 1 + H_x/K_HATP + Mg/K_MATP + K/K_KATP\n",
    "    P_ADPx = 1 + H_x/K_HADP + Mg/K_MADP + K/K_KADP\n",
    "    P_PIx  = 1 + H_x/K_HPi  + Mg/K_MPi  + K/K_KPi \n",
    "\n",
    "    P_ATPe = 1 + H_e/K_HATP + Mg/K_MATP + K/K_KATP;\n",
    "    P_ADPe = 1 + H_e/K_HADP + Mg/K_MADP + K/K_KADP;\n",
    "    P_PIe  = 1 + H_e/K_HPi  + Mg/K_MPi  + K/K_KPi; \n",
    "    \n",
    "    binding_polys = np.array([P_ATPx, P_ADPx, P_PIx, P_ATPe, P_ADPe, P_PIe])\n",
    "    \n",
    "    # Calculate Fluxes\n",
    "    F1F0 = J_F1F0(pH_inner, pH_outer, Mg, K, binding_polys, Y)\n",
    "    ANT = J_ANT(pH_inner, pH_outer, Mg, K, binding_polys, Y)\n",
    "    PiC =  J_PiC(pH_inner, pH_outer, Mg, K, binding_polys, Y)\n",
    "    CK = J_CK(pH_inner, pH_outer, Mg, K, binding_polys, Y)\n",
    "    ATPase = X_ATPase\n",
    "    C1 = J_C1(pH_inner, pH_outer, Mg, K, binding_polys, Y)\n",
    "    C3 = J_C3(pH_inner, pH_outer, Mg, K, binding_polys, Y)\n",
    "    C4 = J_C4(pH_inner, pH_outer, Mg, K, binding_polys, O2, Y)\n",
    "    DH = J_DH(pH_inner, pH_outer, Mg, K, binding_polys, Y)\n",
    "    \n",
    "    dATP_x = (+F1F0 - ANT) / Vx \n",
    "    dADP_x = (-F1F0 + ANT) / Vx \n",
    "    dPi_x  = (-F1F0 + PiC) / Vx\n",
    "    dATP_e = (+ANT*Vmito/Vcyto - ATPase + CK) / Ve\n",
    "    dADP_e = (-ANT*Vmito/Vcyto + ATPase - CK) / Ve\n",
    "    dPi_e  = (-PiC*Vmito/Vcyto + ATPase) / Ve\n",
    "    dCr    = CK / Ve\n",
    "    \n",
    "    dQH2 = (+C1 - C3) / Vx\n",
    "    dNADH_x  = (DH - C1) / Vx\n",
    "    dcytcred = 2 * (C3 - C4) / Vi\n",
    "    dpsi = (4 * C1 + 2 * C3 + 4 * C4 - n_H * F1F0 - ANT) / C_i\n",
    "    \n",
    "    \n",
    "    dY = np.array([dATP_x, dADP_x, dPi_x, dATP_e, dADP_e, dPi_e, dCr, dQH2, dNADH_x, dcytcred, dpsi])\n",
    "    return dY\n"
   ]
  },
  {
   "cell_type": "code",
   "execution_count": 13,
   "metadata": {},
   "outputs": [],
   "source": [
    "# Constants\n",
    "R = 8.3145 # J / mol K \n",
    "T = 310.15 # K\n",
    "RT = R*T\n",
    "F = 96485.33 # C/mole\n",
    "C_i = 3.11e-3 # 3.11e-6; # M V^(-1)\n",
    "\n",
    "\n",
    "# Volumes \n",
    "Ve = 0.8425 #2 #4.54e3  # L cyto water / L cyto\n",
    "Vx = 0.650 # 1 #0.65  # L matrix water/ L mito\n",
    "Vi = Vx / .9 * .1 # L intermembrane space water / L mito\n",
    "\n",
    "# Compartment Volumes\n",
    "Vcyto = 0.6801 # L / L tissue \n",
    "Vmito = 0.2882 # L / L tissue\n",
    "\n",
    "# Dissociation Constants \n",
    "K_HATP = 2.757e-7\n",
    "K_KATP = 9.809e-2\n",
    "K_MATP = 8.430e-5\n",
    "K_HADP = 4.106e-7\n",
    "K_KADP = 1.319e-1\n",
    "K_MADP = 7.149e-4\n",
    "K_HPi  = 2.308e-7\n",
    "K_KPi  = 3.803e-1\n",
    "K_MPi  = 2.815e-2\n",
    "dissoc_constants = np.array([K_HATP, K_KATP, K_MATP, K_HADP, K_KADP,K_MADP, K_HPi, K_KPi, K_MPi])\n",
    "\n",
    "\n",
    "# Conditions \n",
    "pH_outer = 7.2\n",
    "pH_inner = 7.4\n",
    "\n",
    "psi = 175 / 1000 \n",
    "\n",
    "Mg  = 1e-3 # M \n",
    "K   = 100e-3 # M \n",
    "H   = 10**(-7.2) # note, redundant b/c we have pH # M \n",
    "\n",
    "ATP_x = 1e-3\n",
    "ADP_x = 9e-3\n",
    "Pi_x   = 1e-3\n",
    "ATP_e = 7.5e-3\n",
    "ADP_e = 0.5e-3\n",
    "Pi_e   = 0.5e-3\n",
    "\n",
    "Crtot = 54e-3 # M # 20e-3 # total creatin \n",
    "Cr = 0.65 * Crtot; \n",
    "\n",
    "Q_tot    = 1.35e-3\n",
    "QH2   = 0.5 * Q_tot\n",
    "\n",
    "NAD_tot  = 2.97e-3\n",
    "NADH_x = 0.5 * NAD_tot\n",
    "\n",
    "cytc_tot = 2.7e-3\n",
    "cytcred = 0.5 * cytc_tot\n",
    "\n",
    "init_conditions = np.array([ATP_x, ADP_x, Pi_x, ATP_e, ADP_e, Pi_e, Cr, QH2, NADH_x, cytcred, psi])"
   ]
  },
  {
   "cell_type": "code",
   "execution_count": 17,
   "metadata": {},
   "outputs": [],
   "source": [
    "X_ATPase = 5*(1/0.6810)*0.5e-3\n",
    "t_span = np.linspace(0,60,400)\n",
    "\n",
    "\n",
    "\n",
    "results = odeint(dYdt,init_conditions, t_span, (pH_outer, pH_inner, Mg, K, dissoc_constants, X_ATPase)).T"
   ]
  },
  {
   "cell_type": "code",
   "execution_count": 18,
   "metadata": {},
   "outputs": [],
   "source": [
    "ATP_x, ADP_x, Pi_x, ATP_e, ADP_e, Pi_e, Cr, QH2, NADH_x, cytcred, psi = results "
   ]
  },
  {
   "cell_type": "code",
   "execution_count": 19,
   "metadata": {
    "scrolled": false
   },
   "outputs": [
    {
     "data": {
      "text/plain": [
       "[<matplotlib.lines.Line2D at 0x216521f6e80>]"
      ]
     },
     "execution_count": 19,
     "metadata": {},
     "output_type": "execute_result"
    },
    {
     "data": {
      "image/png": "[encoded data removed]",
      "text/plain": [
       "<Figure size 432x288 with 1 Axes>"
      ]
     },
     "metadata": {
      "needs_background": "light"
     },
     "output_type": "display_data"
    },
    {
     "data": {
      "image/png": "[encoded data removed]",
      "text/plain": [
       "<Figure size 432x288 with 1 Axes>"
      ]
     },
     "metadata": {
      "needs_background": "light"
     },
     "output_type": "display_data"
    },
    {
     "data": {
      "image/png": "[encoded data removed]",
      "text/plain": [
       "<Figure size 432x288 with 1 Axes>"
      ]
     },
     "metadata": {
      "needs_background": "light"
     },
     "output_type": "display_data"
    },
    {
     "data": {
      "image/png": "[encoded data removed]",
      "text/plain": [
       "<Figure size 432x288 with 1 Axes>"
      ]
     },
     "metadata": {
      "needs_background": "light"
     },
     "output_type": "display_data"
    },
    {
     "data": {
      "image/png": "[encoded data removed]",
      "text/plain": [
       "<Figure size 432x288 with 1 Axes>"
      ]
     },
     "metadata": {
      "needs_background": "light"
     },
     "output_type": "display_data"
    },
    {
     "data": {
      "image/png": "[encoded data removed]",
      "text/plain": [
       "<Figure size 432x288 with 1 Axes>"
      ]
     },
     "metadata": {
      "needs_background": "light"
     },
     "output_type": "display_data"
    },
    {
     "data": {
      "image/png": "[encoded data removed]",
      "text/plain": [
       "<Figure size 432x288 with 1 Axes>"
      ]
     },
     "metadata": {
      "needs_background": "light"
     },
     "output_type": "display_data"
    }
   ],
   "source": [
    "# Plotting Results \n",
    "plt.figure()\n",
    "plt.title('Matrix')\n",
    "plt.xlabel('Time (s)')\n",
    "plt.ylabel('Concentration (mM)')\n",
    "plt.plot(t_span, ATP_x*1000, label = 'ATP')\n",
    "plt.plot(t_span, ADP_x*1000, label = 'ADP')\n",
    "plt.plot(t_span, Pi_x*1000, label = 'Pi')\n",
    "plt.legend()\n",
    "\n",
    "plt.figure()\n",
    "plt.title('Cytosol')\n",
    "plt.xlabel('Time (s)')\n",
    "plt.ylabel('Concentration (mM)')\n",
    "plt.plot(t_span, ATP_e*1000, label = 'ATP')\n",
    "plt.plot(t_span, ADP_e*1000, label = 'ADP')\n",
    "plt.plot(t_span, Pi_e*1000, label = 'Pi')\n",
    "plt.legend()\n",
    "\n",
    "\n",
    "plt.figure()\n",
    "plt.title('Creatine')\n",
    "plt.xlabel('Time (s)')\n",
    "plt.ylabel('Concentration (mM)')\n",
    "plt.plot(t_span, Cr*1000, label = 'Cr')\n",
    "plt.plot(t_span, (Crtot - Cr)*1000, label = 'CrP')\n",
    "plt.legend()\n",
    "\n",
    "plt.figure()\n",
    "plt.title('Ubiquinol')\n",
    "plt.xlabel('Time (s)')\n",
    "plt.ylabel('Concentration (mM)')\n",
    "plt.plot(t_span, QH2*1000, label = 'QH$_2$')\n",
    "plt.plot(t_span, (Q_tot - QH2)*1000, label = 'Q')\n",
    "plt.legend()\n",
    "\n",
    "plt.figure()\n",
    "plt.title('NADH and NAD')\n",
    "plt.xlabel('Time (s)')\n",
    "plt.ylabel('Concentration (mM)')\n",
    "plt.plot(t_span, NADH_x*1000, label = 'NADH')\n",
    "plt.plot(t_span, (NAD_tot -NADH_x)*1000, label = 'NAD')\n",
    "plt.legend()\n",
    "\n",
    "plt.figure()\n",
    "plt.title('Cytochrome C')\n",
    "plt.xlabel('Time (s)')\n",
    "plt.ylabel('Concentration (mM)')\n",
    "plt.plot(t_span, cytcred*1000, label = 'cytc_red')\n",
    "plt.plot(t_span, (cytc_tot -cytcred)*1000, label = 'cytc_ox')\n",
    "plt.legend()\n",
    "\n",
    "\n",
    "plt.figure()\n",
    "plt.title('Membrane Potential')\n",
    "plt.xlabel('Time (s)')\n",
    "plt.ylabel('Voltage (mV)')\n",
    "plt.plot(t_span, psi*1000)\n"
   ]
  },
  {
   "cell_type": "code",
   "execution_count": 20,
   "metadata": {},
   "outputs": [
    {
     "data": {
      "text/plain": [
       "array([0.175     , 0.1718745 , 0.17058034, 0.16900234, 0.16746494,\n",
       "       0.16605017, 0.16475895, 0.16357274, 0.16247159, 0.16143853,\n",
       "       0.16046011, 0.15952575, 0.15862708, 0.15775726, 0.15691066,\n",
       "       0.15608254, 0.15526876, 0.1544657 , 0.1536701 , 0.15287898,\n",
       "       0.15208956, 0.1512992 , 0.15050547, 0.14970595, 0.14889837,\n",
       "       0.14808062, 0.14725083, 0.14640739, 0.1455493 , 0.14467631,\n",
       "       0.14378939, 0.14289111, 0.14198623, 0.14108209, 0.14018857,\n",
       "       0.13931749, 0.13848113, 0.13769037, 0.13695284, 0.13627206,\n",
       "       0.1356476 , 0.13507602, 0.13455202, 0.1340695 , 0.13362241,\n",
       "       0.13320515, 0.13281288, 0.1324416 , 0.13208816, 0.13175017,\n",
       "       0.13142585, 0.13111391, 0.13081335, 0.13052328, 0.13024325,\n",
       "       0.12997253, 0.12971068, 0.12945727, 0.1292119 , 0.12897402,\n",
       "       0.12874347, 0.12851982, 0.12830289, 0.12809222, 0.12788761,\n",
       "       0.12768885, 0.12749563, 0.12730768, 0.1271248 , 0.12694675,\n",
       "       0.12677327, 0.12660416, 0.12643926, 0.1262783 , 0.12612111,\n",
       "       0.12596751, 0.12581733, 0.1256704 , 0.12552657, 0.1253857 ,\n",
       "       0.12524763, 0.12511225, 0.12497943, 0.12484906, 0.12472103,\n",
       "       0.12459524, 0.1244716 , 0.12435002, 0.12423041, 0.1241127 ,\n",
       "       0.1239968 , 0.12388267, 0.12377023, 0.12365941, 0.12355017,\n",
       "       0.12344246, 0.1233362 , 0.12323138, 0.12312793, 0.1230258 ,\n",
       "       0.12292497, 0.12282539, 0.12272704, 0.12262987, 0.12253386,\n",
       "       0.12243896, 0.12234517, 0.1222524 , 0.12216067, 0.12206995,\n",
       "       0.12198021, 0.12189142, 0.12180356, 0.12171663, 0.12163058,\n",
       "       0.1215454 , 0.12146107, 0.12137756, 0.12129487, 0.12121297,\n",
       "       0.12113185, 0.12105149, 0.12097187, 0.12089298, 0.1208148 ,\n",
       "       0.12073733, 0.12066053, 0.12058442, 0.12050896, 0.12043415,\n",
       "       0.12035997, 0.12028641, 0.12021347, 0.12014112, 0.12006937,\n",
       "       0.11999818, 0.11992757, 0.11985752, 0.11978802, 0.11971905,\n",
       "       0.11965062, 0.11958271, 0.11951531, 0.11944842, 0.11938203,\n",
       "       0.11931612, 0.11925069, 0.11918574, 0.11912124, 0.11905721,\n",
       "       0.11899364, 0.1189305 , 0.1188678 , 0.11880554, 0.11874369,\n",
       "       0.11868227, 0.11862125, 0.11856065, 0.11850045, 0.11844064,\n",
       "       0.11838122, 0.11832218, 0.11826352, 0.11820524, 0.11814733,\n",
       "       0.11808979, 0.1180326 , 0.11797576, 0.11791926, 0.11786311,\n",
       "       0.1178073 , 0.11775183, 0.1176967 , 0.11764191, 0.11758743,\n",
       "       0.11753326, 0.1174794 , 0.11742585, 0.11737261, 0.11731968,\n",
       "       0.11726706, 0.11721473, 0.11716269, 0.11711094, 0.11705948,\n",
       "       0.11700829, 0.11695739, 0.11690677, 0.11685642, 0.11680634,\n",
       "       0.11675652, 0.11670697, 0.11665767, 0.11660865, 0.11655987,\n",
       "       0.11651134, 0.11646307, 0.11641504, 0.11636725, 0.11631971,\n",
       "       0.11627241, 0.11622534, 0.11617851, 0.11613191, 0.11608553,\n",
       "       0.11603939, 0.11599347, 0.11594778, 0.1159023 , 0.11585704,\n",
       "       0.115812  , 0.11576717, 0.11572255, 0.11567814, 0.11563394,\n",
       "       0.11558994, 0.11554615, 0.11550255, 0.11545916, 0.11541597,\n",
       "       0.11537297, 0.11533016, 0.11528755, 0.11524512, 0.11520289,\n",
       "       0.11516084, 0.11511898, 0.11507729, 0.11503579, 0.11499447,\n",
       "       0.11495332, 0.11491236, 0.11487156, 0.11483094, 0.11479049,\n",
       "       0.11475021, 0.1147101 , 0.11467016, 0.11463039, 0.11459078,\n",
       "       0.11455134, 0.11451205, 0.11447293, 0.11443397, 0.11439516,\n",
       "       0.11435652, 0.11431802, 0.11427969, 0.1142415 , 0.11420346,\n",
       "       0.11416558, 0.11412784, 0.11409025, 0.1140528 , 0.1140155 ,\n",
       "       0.11397834, 0.11394133, 0.11390445, 0.11386772, 0.11383112,\n",
       "       0.11379466, 0.11375836, 0.11372217, 0.11368613, 0.11365022,\n",
       "       0.11361444, 0.11357879, 0.11354327, 0.11350789, 0.11347263,\n",
       "       0.1134375 , 0.1134025 , 0.11336762, 0.11333287, 0.11329824,\n",
       "       0.11326374, 0.11322936, 0.1131951 , 0.11316096, 0.11312694,\n",
       "       0.11309304, 0.11305925, 0.11302559, 0.11299204, 0.11295861,\n",
       "       0.11292529, 0.11289209, 0.112859  , 0.11282602, 0.11279314,\n",
       "       0.11276038, 0.11272773, 0.11269519, 0.11266276, 0.11263044,\n",
       "       0.11259822, 0.11256611, 0.11253411, 0.11250221, 0.11247041,\n",
       "       0.11243872, 0.11240713, 0.11237564, 0.11234425, 0.11231296,\n",
       "       0.11228177, 0.11225069, 0.1122197 , 0.11218881, 0.11215801,\n",
       "       0.11212731, 0.11209671, 0.11206621, 0.11203579, 0.11200548,\n",
       "       0.11197525, 0.11194512, 0.11191508, 0.11188513, 0.11185528,\n",
       "       0.11182551, 0.11179584, 0.11176625, 0.11173675, 0.11170734,\n",
       "       0.11167802, 0.11164879, 0.11161964, 0.11159058, 0.11156161,\n",
       "       0.11153272, 0.11150391, 0.11147519, 0.11144655, 0.111418  ,\n",
       "       0.11138952, 0.11136113, 0.11133283, 0.1113046 , 0.11127645,\n",
       "       0.11124838, 0.1112204 , 0.11119249, 0.11116466, 0.11113691,\n",
       "       0.11110924, 0.11108164, 0.11105412, 0.11102668, 0.11099932,\n",
       "       0.11097203, 0.11094481, 0.11091767, 0.1108906 , 0.11086361,\n",
       "       0.11083669, 0.11080985, 0.11078307, 0.11075637, 0.11072975,\n",
       "       0.11070319, 0.1106767 , 0.11065029, 0.11062394, 0.11059766,\n",
       "       0.11057146, 0.11054532, 0.11051925, 0.11049325, 0.11046732,\n",
       "       0.11044145, 0.11041566, 0.11038993, 0.11036426, 0.11033866,\n",
       "       0.11031313, 0.11028767, 0.11026227, 0.11023693, 0.11021166,\n",
       "       0.11018645, 0.11016131, 0.11013623, 0.11011121, 0.11008625,\n",
       "       0.11006136, 0.11003653, 0.11001176, 0.10998705, 0.10996241,\n",
       "       0.10993782, 0.1099133 , 0.10988884, 0.10986443, 0.10984009,\n",
       "       0.1098158 , 0.10979158, 0.10976741, 0.1097433 , 0.10971925])"
      ]
     },
     "execution_count": 20,
     "metadata": {},
     "output_type": "execute_result"
    }
   ],
   "source": [
    "psi"
   ]
  }
 ],
 "metadata": {
  "kernelspec": {
   "display_name": "Python 3",
   "language": "python",
   "name": "python3"
  },
  "language_info": {
   "codemirror_mode": {
    "name": "ipython",
    "version": 3
   },
   "file_extension": ".py",
   "mimetype": "text/x-python",
   "name": "python",
   "nbconvert_exporter": "python",
   "pygments_lexer": "ipython3",
   "version": "3.8.3"
  }
 },
 "nbformat": 4,
 "nbformat_minor": 4
}
