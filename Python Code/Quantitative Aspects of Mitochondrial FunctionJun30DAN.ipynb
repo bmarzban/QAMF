{
 "cells": [
  {
   "cell_type": "markdown",
   "metadata": {},
   "source": [
    "# 1. Electrical capacitance and energy of the mitochondrial inner membrane\n",
    "\n",
    "A capacitor is an electrical circuit element that stores electrical energy in an electric field (Wikipedia REF). The mitochondrial inner membrane acts as an electrical capacitor to store energy in an electrostatic potential different between the milieux on the two sides the membrane. \n",
    "\n",
    "Electrical capacitance is measured in units of charge per unit voltage, or in standard units, Coulombs per Volt (C/V), equivalently, a Farad. (1 F = 1 C/V)\n",
    "\n",
    "## 1.1. What is the capacitance of mitochondrial inner membrane? Make a reasonable assumption about the size of a mitochondrion and assume that the inner membrane has 5 or 10 times more area than the outer membrane.\n",
    "\n",
    "A typical range for the capacity density of a biological membrane is 0.5-1.0 $\\mu$F cm$^{-2}$ [REF]. Let’s take a mitochondrion as a sphere with radius 1  $\\mu$m. In this case the outer membrane would have a surface area of $4\\pi r^2$, or approximately 12.5  $\\mu$m$^2$. If the inner membrane has 10 times more area than the outer, then the area of the inner membrane is 125 $\\mu$m$^2$. So, we can approximate the capacitance of this mitochondrion’s inner membrane as\n",
    "\n",
    "$$\n",
    "  c_{mito} = \\left( 1 \\frac{\\mu{\\rm F}} {{\\rm cm}^2} \\right)\n",
    "             \\left(  125 \\, \\mu{\\rm m}^2  \\right)\n",
    "             \\left( \\frac{ 1 \\, {\\rm cm}^2} {10^8 \\mu{\\rm m}^2} \\right) = \n",
    "             1.25 \\times 10^{-6} \\mu{\\rm F} .\n",
    "$$\n",
    "\n",
    "## 1.2. Express inner mitochondrial membrane capacitance in units of: (a.) farads per liter of mitochondria; (b.) moles per millivolt per unit liter of mitochondria. \n",
    "\n",
    "Our one-micron radius spherical mitochondrion has a volume of approximately 4 $\\mu$m$^3$, or $4 \\times 10^{-15}$ L. Thus, the capacitance per untit volume is\n",
    "\n",
    "$$\n",
    "  \\frac{1.25 \\times 10^{-6} \\mu{\\rm F}}{4 \\times 10^{-15} \\, {\\rm L}} = \n",
    "  3.125 \\times 10^{8} \\frac{\\mu{\\rm F}}{{\\rm L}} = \n",
    "  3.125 \\times 10^{2} \\frac{{\\rm F}}{{\\rm L}} = \n",
    "  3.125 \\times 10^{2} \\frac{{\\rm C}}{{\\rm V \\, L}} =\n",
    "  3.125 \\times 10^{-1} \\frac{{\\rm C}}{{\\rm mV \\, L}}\n",
    "$$\n",
    "\n",
    "Using the fact that there are $1.036 \\times 10^{−5}$ moles per coulomb, the capacitance can be expressed\n",
    "\n",
    "$$\n",
    " 3.24 \\times 10^{-6} {\\rm mol}/({\\rm mV \\, L}).\n",
    "$$\n",
    "\n",
    "## 1.3. If the electrostatic potential across the inner mitochondrial membrane is 180 mV, how much electrical energy per unit volume is stored in mitochondria? How much electrical energy is stored in mitochondria per unit volume of myocardium? Express your answer in joules per liter.\n",
    "\n",
    "The total energy stored in a capacitor is $1/2\\, c \\Delta\\Psi^2$, where $c$ is the capacitance and $\\Delta\\Psi$ is the voltage drop across the capacitance. (Can you derive this formula? Verify that the units are correct.) The density energy in the electrostatic potential across the mitochondrial inner membrane is computed\n",
    "\n",
    "$$\n",
    "  e_{mito} = \\frac{1}{2} c_{mito} \\Delta\\Psi^2 \n",
    "  = \\frac{3.125}{2} \\times 10^{-1} \\frac{{\\rm C}}{{\\rm mV \\, L}} ( 180 \\, {\\rm mV)}) (0.180\\, {\\rm V})^2 \\, ,\n",
    "$$\n",
    "\n",
    "which is roughly equal to 5 joule / L. The myocardium is approximately 1/3 by volume mitochondria. So the mitochondrial electrical energy per unit volume of myocardium is about 5/3 joule / L. \n",
    "\n",
    "## 1.4. Approximately much electrical energy is stored in mitochondria in the whole human heart? How does that compare to the amount of energy supplied by a AA battery? How does it compare to the amount of mechanical work the heart does per unit time?\n",
    "\n",
    "The heart is around 250 grams, or in terms of volume, approximately $1/4$ L. So the inner mitochondrial membrane of mitochondrial stores around $5/12$ of a joule of energy in the electrical potential. \n",
    "\n",
    "For comparison a AA battery provides approximately 10 kJ of energy. \n",
    "\n",
    "Another comparison: the LV does approximately 1 watt of work under resting baseline conditions. That is: 1 W = 1 joule / second. The $1/4$ joule of electrical energy stored in the inner mitochodondrial membrane is equivalent to how much mechanical work the heart does at rest in $1/4$second.\n",
    "\n",
    "# 2. Converting electrical potential to the ATP hydrolysis chemical potential\n",
    "\n",
    "The electrostatic energy potential across the mitochondrial inner membrane is used to drive the synthesis of ATP in the final step of oxidative ATP synthesis. The mammalian mitochondrial F1F0-ATPase synthesizes ATP in the mitochondrial matrix from ADP and inorganic phosphate, coupled to the translocation of protons (H+ ions) from outside to inside of the matrix. The chemical reaction stoichiometry can be expressed:\n",
    "\n",
    "\\begin{equation}\\label{eq:ATPase1}\n",
    "\t{\\rm MgADP}^{1-} + {\\rm HPO}_4^{2-} + ({\\rm H}^+)_{\\rm inside} \\leftrightharpoons\n",
    "    {\\rm MgATP}^{2-} + {\\rm H}_2{\\rm O},\t\t\t\t\n",
    "\\end{equation}\n",
    "\n",
    "where the term $({\\rm H}^+)_{\\rm inside}$ indicates that a hydrogen ion from inside the matrix is covalently incorporated into the synthesized ATP. The species MgADP$^{1-}$ and MgATP$^{2-}$ are the magnesium-bound species of ADP and ATP. This chemical reaction is coupled to the transport of $n_A = 8/3$ protons across the inner membrane:\n",
    "\n",
    "\\begin{equation}\\label{eq:ATPase2}\n",
    "    n_A \\, ({\\rm H}^+)_{\\rm outside} \\leftrightharpoons n_A \\, ({\\rm H}^+)_{\\rm inside}.\t\n",
    "\\end{equation}\n",
    "\n",
    "## 2.1. Given a free magnesium concentration [Mg$^{2+}$] and hydrogen ion activity [H$^+$] = 10$^{\\rm -pH}$, how can you compute the concentrations of MgADP$^{1-}$, MgATP$^{2-}$, and HPO$_4^{2-}$ in terms of the total concentrations of the reactants [$\\Sigma$ADP], [$\\Sigma$ATP], and [$\\Sigma$Pi]? (You will need to account for binding of biochemical species to [Mg$^{2+}$] and [H$^+$].)\n",
    "\n",
    "Let’s start with looking at the species of ATP:\n",
    "\\begin{eqnarray}\n",
    "  [\\Sigma{\\rm ATP}] & = & [{\\rm ATP}^{4-}] + [{\\rm Mg}\\cdot{\\rm ATP}^{2-}] + \n",
    "                          [{\\rm H}\\cdot{\\rm ATP}^{3-}] + [{\\rm K}\\cdot{\\rm ATP}^{3-}] \\\\\n",
    "                    & = & [{\\rm ATP}^{4-}]  + \\frac{[{\\rm Mg}^{2+}]}{K_{MgATP}}[{\\rm ATP}^{4-}]  + \n",
    "                          \\frac{[{\\rm H}^{+}]}{K_{HATP}}[{\\rm ATP}^{4-}] + \n",
    "                          \\frac{[{\\rm K}^{+}]}{K_{KATP}}[{\\rm ATP}^{4-}]  \\\\\n",
    "                    & = & [{\\rm ATP}^{4-}]\\left(1 + \\frac{[{\\rm Mg}^{2+}]}{K_{MgATP}} + \n",
    "                          \\frac{[{\\rm H}^{+}]}{K_{HATP}} + \\frac{[{\\rm K}^{+}]}{K_{KATP}} \\right)\n",
    "\\end{eqnarray}\n",
    "\n",
    "(I am ignoring the two-cation-bound species.)\n",
    "\n",
    "We can define something called the “binding polynomial” for each reactant:\n",
    "\\begin{eqnarray}\n",
    "  P_{ATP} & = & 1 + \\frac{[{\\rm Mg}^{2+}]}{K_{MgATP}} + \n",
    "                     \\frac{[{\\rm H}^{+}]}{K_{HATP}} + \\frac{[{\\rm K}^{+}]}{K_{KATP}} \\\\\n",
    "  P_{ADP} & = & 1 + \\frac{[{\\rm Mg}^{2+}]}{K_{MgADP}} + \n",
    "                     \\frac{[{\\rm H}^{+}]}{K_{HADP}} + \\frac{[{\\rm K}^{+}]}{K_{KADP}} \\\\\n",
    "  P_{Pi}  & = & 1 + \\frac{[{\\rm Mg}^{2+}]}{K_{MgPi}} + \n",
    "                     \\frac{[{\\rm H}^{+}]}{K_{HPi}} + \\frac{[{\\rm K}^{+}]}{K_{KPi}} \\, ,\n",
    "\\end{eqnarray}\n",
    "and\n",
    "\\begin{eqnarray}\n",
    "  [\\Sigma{\\rm ATP}] & = & [{\\rm ATP}^{4-}] P_{ATP} \\\\\n",
    "  [\\Sigma{\\rm ADP}] & = & [{\\rm ADP}^{3-}] P_{ADP} \\\\\n",
    "  [\\Sigma{\\rm Pi}] & = & [{\\rm HPO}_4^{2-}] P_{Pi} \\, .\n",
    "\\end{eqnarray}\n",
    "\n",
    "Furthermore\n",
    "\\begin{eqnarray}\n",
    "  [{\\rm Mg}\\cdot{\\rm ATP}^{2-}] & = & \\frac{[{\\rm Mg}^{2+}]/K_{MgATP}}{P_{ATP}}[\\Sigma{\\rm ATP}] \\\\\n",
    "  [{\\rm Mg}\\cdot{\\rm ADP}^{1-}] & = & \\frac{[{\\rm Mg}^{2+}]/K_{MgADP}}{P_{ADP}}[\\Sigma{\\rm ADP}] \\\\\n",
    "  [{\\rm HPO}_4^{2-}] & = & \\frac{1}{P_{Pi}}[\\Sigma{\\rm Pi}] \\\\\n",
    "\\end{eqnarray}\n",
    "\n",
    "## 2.2. Derive an expression for the Gibbs free energy change associated with reaction (2.1) in terms of the reference $\\Delta G_r^0$, the concentrations of biochemical reactants, and the cation concentrations [Mg$^{2+}$] and [H$^+$]. What is the free energy of ATP hydrolysis in the mitochondrial matrix? Assume that pH = 7.2 and [$\\Sigma$ADP] = 9.5 mM, [$\\Sigma$ATP] = 0.5 mM, and [$\\Sigma$Pi] = 1 mM.\n",
    "\n",
    "Consider the ATP synthesis reaction\n",
    "$$\n",
    "  \\rm ADP^{3-} + HPO_4^{2-} + H^+ \\rightleftharpoons ATP^{4-} + H_2O \\, ,\n",
    "$$\n",
    "with equilibrium mass action ratio\n",
    "$$\n",
    "  K_{eq} = e^{-\\Delta G_r^0 / RT} = \\left( \\frac{[{\\rm ATP}^{4-}]}\n",
    "        {[{\\rm H}^+][{\\rm HPO}_4^{2-}][{\\rm ADP}^{3-}]} \\right)_{eq} \\, .\n",
    "$$\n",
    "Substituting the expressions for the binding polynomials, we have\n",
    "$$\n",
    "  K_{eq} = e^{-\\Delta G_r^0 / RT} = \\left( \\frac{[\\Sigma{\\rm ATP}]}\n",
    "        {[\\Sigma{\\rm Pi}][\\Sigma{\\rm ADP}]} \\right)_{eq}\n",
    "        \\frac{P_{ADP}P_{Pi}}{[{\\rm H}^+]P_{ATP}}\\, ,\n",
    "$$\n",
    "\n",
    "which yields and expression for the apparent equilibrium constant in terms of biochemical reactants\n",
    "$$\n",
    "  K'_{eq} = e^{-\\Delta G_r^{\\prime 0} / RT} = \\left( \\frac{[\\Sigma{\\rm ATP}]}\n",
    "        {[\\Sigma{\\rm Pi}][\\Sigma{\\rm ADP}]} \\right)_{eq} =\n",
    "        K_{eq}\\frac{[{\\rm H}^+]P_{ATP}}{P_{ADP}P_{Pi}} \\, .\n",
    "$$\n",
    "\n",
    "Using these equations, there are a couple of equivalent ways to express the Gibbs free enegy change for this reaction. One is based on the referenc chemical reaction\n",
    "\n",
    "\\begin{equation}\n",
    "  \\Delta G_r = \\Delta G^0_r - RT \\ln\\left( \\frac{[{\\rm H}^+][{\\rm HPO}_4^{2-}][{\\rm ADP}^{3-}]}\n",
    "                                                  {[{\\rm ATP}^{4-}]}\\right) \\, .\n",
    "\\end{equation}\n",
    "\n",
    "The other is\n",
    "\\begin{equation}\n",
    "  \\Delta G_r = \\Delta G^{\\prime 0}_r - RT \\ln\\left( \\frac{[\\Sigma{\\rm Pi}][\\Sigma{\\rm ADP}]}\n",
    "                                                  {[\\Sigma{\\rm ATP}]}\\right) \\, .\n",
    "\\end{equation}\n",
    "\n",
    "To verify these two equations give the same value, take the following values for dissociation constants\n",
    "\n",
    "| Reactant (L) | $K_{H-L}$                | $K_{K-L}$               | $K_{Mg-L}$                |\n",
    "| ------------ | ------------------------ | ----------------------- | ------------------------- |\n",
    "| ATP          | 2.757$\\times 10^{-7}$ M  | 9.809$\\times 10^{-2}$ M   | 8.430$\\times 10^{-5}$ M   |\n",
    "| ADP          | 4.106$\\times 10^{-7}$ M  | 1.319$\\times 10^{-1}$ M   | 7.149$\\times 10^{-4}$ M   |\n",
    "| PI           | 2.308$\\times 10^{-7}$ M  | 3.803$\\times 10^{-1}$ M  | 2.815$\\times 10^{-2}$ M   |\n",
    "\n",
    "and $\\Delta_r^0 G = -4.67$ kJ/mole, which yields $K_{eq} = 6.1163$ at 37$^\\circ$ C.\n",
    "\n",
    "The Python code below verifies that both approaches yield the same value of 45.730 kJ/mole."
   ]
  },
  {
   "cell_type": "code",
   "execution_count": 1,
   "metadata": {},
   "outputs": [
    {
     "name": "stdout",
     "output_type": "stream",
     "text": [
      "First equation: 45729.93159766788  J/mole\n",
      "Second equation: 45729.93159766787  J/mole\n"
     ]
    },
    {
     "data": {
      "text/plain": [
       "(3.543404140361549e-05, 0.0005)"
      ]
     },
     "execution_count": 1,
     "metadata": {},
     "output_type": "execute_result"
    }
   ],
   "source": [
    "# %%\n",
    "\n",
    "import numpy \n",
    "\n",
    "# Dissociation Constants\n",
    "K_HATP = 2.757e-7\n",
    "K_KATP = 9.809e-2\n",
    "K_MATP = 8.430e-5\n",
    "K_HADP = 4.106e-7\n",
    "K_KADP = 1.319e-1\n",
    "K_MADP = 7.149e-4\n",
    "K_HPI  = 2.308e-7\n",
    "K_KPI  = 3.803e-1\n",
    "K_MPI  = 2.815e-2\n",
    "\n",
    "# Other constants\n",
    "Keq = 6.1163\n",
    "DGr0 = -4670\n",
    "RT = 310.15*8.3145\n",
    "DGr0 = -RT*numpy.log(Keq)\n",
    "\n",
    "# Concentrations\n",
    "ATP = 0.5e-3\n",
    "ADP = 9.5e-3\n",
    "Pi  = 1e-3\n",
    "Mg  = 1e-3\n",
    "H   = 10**(-7.2)\n",
    "K   = 100e-3\n",
    "\n",
    "# binding polynomials:\n",
    "P_ATP = 1 + H/K_HATP + K/K_KATP + Mg/K_MATP\n",
    "P_ADP = 1 + H/K_HADP + K/K_KADP + Mg/K_MADP\n",
    "P_PI = 1 + H/K_HPI + K/K_KPI + Mg/K_MPI\n",
    "\n",
    "# reference species concentration\n",
    "ATPs = ATP/P_ATP\n",
    "ADPs = ADP/P_ADP\n",
    "Pi_s = Pi/P_PI\n",
    "\n",
    "# compute DeltaG_r in terms of reference species\n",
    "DG1 = +DGr0 - RT*numpy.log(H*Pi_s*ADPs/ATPs)\n",
    "print(\"First equation:\",DG1,\" J/mole\")\n",
    "\n",
    "K_apparent = Keq*H*P_ATP/(P_ADP*P_PI)\n",
    "DG2 = -RT*numpy.log(K_apparent) - RT*numpy.log(ADP*Pi/ATP)\n",
    "print(\"Second equation:\",DG2,\" J/mole\")\n",
    "\n",
    "ATPs, ATP"
   ]
  },
  {
   "cell_type": "code",
   "execution_count": null,
   "metadata": {},
   "outputs": [],
   "source": []
  },
  {
   "cell_type": "markdown",
   "metadata": {},
   "source": [
    "This positive value for $\\Delta_r G$ means that the reaction is not favorable to proceed in the forward driection. (In other words, ATP synthesis cannot proceed without being coupled to some other driving force.)"
   ]
  },
  {
   "cell_type": "markdown",
   "metadata": {},
   "source": [
    "## 2.3. What is the free energy change of Equation (2.2) at $\\Delta\\Psi$ = 180 mV? How does the free energy change of Equation (2.1) compare to that of Equation (2.2)? How efficient is the transduction of electrical to chemical free energy in this step in ATP synthesis? (What is the ratio of energy stored in ATP to the total energy consumed?)\n",
    "\n",
    "The electrical potential of 0.18 J/C can be converted to J/mole using the unit conversion factor $F = 96485.33$ C/mole, which is known as Faraday's constant:\n",
    "\n",
    "\\begin{equation}\n",
    "  \\Delta G_{H^+} = \\left(0.18\\,{\\rm J/C}\\right)\\left( 96485.33\\,{\\rm C/mole} \\right)\n",
    "                 = 17367.35 \\, {\\rm J/mole} \\, .\n",
    "\\end{equation}\n",
    "\n",
    "(This equation ignores differences in pH on either side of the inner membrane.) This is the energy required (per mole) to move positive charges against the electrostatic gradient, from the inside to the outside of the matrix. In other words, there is an electrical force driving postive charge into the matrix. \n",
    "\n",
    "Since ATP synthesis reaction in mitochondrial is coupled to $n_A = 8/3$ H$^+$ translocate to the matrix, the overall free energy change for the coupled transport and reaction process is\n",
    "\n",
    "\\begin{equation}\n",
    "  \\Delta G = \\Delta G^{\\prime 0}_r - RT \\ln\\left( \\frac{[\\Sigma{\\rm Pi}][\\Sigma{\\rm ADP}]}\n",
    "                                                  {[\\Sigma{\\rm ATP}]}\\right) \n",
    "                                   - n_A \\Delta G_{H^+} \\, .\n",
    "\\end{equation}\n",
    "\n",
    "Plugging the numbers from Section (2.2) we get\n",
    "\n",
    "\\begin{eqnarray}\n",
    "  \\Delta G &=& +45.73 - (8/3)*17.37 \\\\\n",
    "           &=& +45.73 -46.32  \\\\\n",
    "           &=& -0.59 \\, {\\rm kJ/mole} \\, ,\n",
    "\\end{eqnarray}\n",
    "\n",
    "which means that, given the assumed concentrations, the system is operating close to equilibrium. The ratio of chemical energy stored in the ATP hydrolysis potential to electrical energy consumed is $45.73/46.32 \\approx 98.7 \\%$.\n",
    "\n",
    "\n",
    "## 2.4. Given the concentrations assumed in 2.2, what is the minimum value of $\\Delta\\Psi$ at which ATP can be synthesized in the mitochondrial matrix?\n",
    "\n",
    "At equilibrium the electrical energy consumed is equal to the ATP hydrolysis potential:\n",
    "$$\n",
    " (8/3) \\Delta G_{H^+} = 45.73 \\, {\\rm kJ/mole} ,\n",
    "$$\n",
    "yielding $\\Delta\\Psi = 177.7$ mV.\n",
    "\n",
    "\n",
    "## 2.5. Assume that reaction (2.1) proceeds by simple mass-action kinetics, with a constant reverse rate kr. How does the forward rate constant necessarily depend on $\\Delta\\Psi$ for the reaction kinetics to be properly thermodynamically balanced?\n",
    "\n",
    "To recap, the free energy for the ATP synthesis reaction\n",
    "\\begin{equation}\n",
    "\t{\\rm ADP}^{3-} + {\\rm HPO}_4^{2-} + ({\\rm H}^+)_{\\rm inside} \\leftrightharpoons\n",
    "    {\\rm ATP}^{4-} + {\\rm H}_2{\\rm O},\t\t\t\t\n",
    "\\end{equation}\n",
    "is\n",
    "\\begin{equation}\n",
    "  \\Delta G_r = \\Delta G_r^0 - RT \\log\\left( \\frac{[{\\rm H}^+]_{\\rm inside}[{\\rm HPO}_4^{2-}][{\\rm ADP}^{3-}]}\n",
    "      {[{\\rm ATP}^{4-}]} \\right)\n",
    "\\end{equation}\n",
    "where $\\Delta G_r^0 \\approx -4.6$ kJ/mole is the standard Gibbs free energy change for the reference chemical reaction. In mitochondria the ATP synthesis is coupled to proton transport from outside to inside of the matrix:\n",
    "\\begin{equation}\n",
    "   n_A \\left({\\rm H}^+ \\right)_{\\rm outside} \\leftrightharpoons n_A \\left({\\rm H}^+ \\right)_{\\rm inside}\n",
    "\\end{equation}\n",
    "which is associated with a free energy change\n",
    "\\begin{equation}\n",
    "  \\Delta G_H = -n_A F\\Delta\\Psi - RT \\log\\left( \\frac{[{\\rm H}^+]_{\\rm outside}}\n",
    "          { [{\\rm H}^+]_{\\rm inside}} \\right)^{n_A} \\, .\n",
    "\\end{equation}\n",
    "This free energy is sometimes called the proton motive force. The last term on the right-hand side represents the contribution to the proton-transport free energy from a gradient in pH across the inner mitochondrial membrane.\n",
    "\n",
    "The free energy of coupled ATP synthsis and proton transport is\n",
    "\\begin{equation}\n",
    "  \\Delta G_r = \\Delta G_r^0 - RT \\log\\left( \\frac{[{\\rm HPO}_4^{2-}][{\\rm ADP}^{3-}]}\n",
    "      {[{\\rm ATP}^{4-}]} \\right) -n_A F\\Delta\\Psi - RT \\log \\frac{\\left( [{\\rm H}^+]_{\\rm outside}\\right)^{n_A}}\n",
    "          {\\left( [{\\rm H}^+]_{\\rm inside}\\right)^{n_A-1}}  \\, .\n",
    "\\end{equation}\n",
    "\n",
    "Chemical equilibrium occurs when $\\Delta G_r = 0$:\n",
    "\\begin{equation}\n",
    "  \\left( \\frac{[{\\rm ATP}^{4-}]}{[{\\rm HPO}_4^{2-}][{\\rm ADP}^{3-}]}\n",
    "       \\right)_{eq} = \\exp\\left[-\\left( \\Delta G_r^0 - N_A F\\Delta\\Psi \\right)/RT \\right]\\cdot\n",
    "      \\frac{\\left( [{\\rm H}^+]_{\\rm outside}\\right)^{n_A}}\n",
    "          {\\left( [{\\rm H}^+]_{\\rm inside}\\right)^{n_A-1}} \\, ,\n",
    "\\end{equation}\n",
    "or in terms of sums of species\n",
    "\\begin{equation}\n",
    "  K'_{F1F0ATPase} = \n",
    "  \\left( \\frac{[\\Sigma{\\rm ATP}]}{[\\Sigma{\\rm Pi}][\\Sigma{\\rm ADP}]}\n",
    "       \\right)_{eq} = \\exp\\left[-\\left( \\Delta G_r^0 - N_A F\\Delta\\Psi \\right)/RT \\right]\\cdot\n",
    "       \\frac{P_{ATP}}{P_{ADP} P_{Pi}}\\cdot\n",
    "      \\frac{\\left( [{\\rm H}^+]_{\\rm outside}\\right)^{n_A}}\n",
    "          {\\left( [{\\rm H}^+]_{\\rm inside}\\right)^{n_A-1}} \\, .\n",
    "\\end{equation}\n",
    "\n",
    "A simple mass-action expression for the reaction flux that satisfies this thermodynamic relation is\n",
    "\\begin{equation}\n",
    "  J_{F1F0ATPase} = k_r\\left( K'_{F1F0ATPase}[\\Sigma{\\rm Pi}][\\Sigma{\\rm ADP}] - [\\Sigma{\\rm ATP}] \\right) .\n",
    "\\end{equation}\n",
    "\n",
    "\n",
    "## 2.6. Write a simple program that simulates the kinetics of [$\\Sigma$ADP], [$\\Sigma$ATP] , and [$\\Sigma$Pi] in the matrix given a fixed membrane potential, pH, and magnesium concentration, and given arbitrary initial conditions. How do the predicted steady-state concentrations depend on membrane potential, pH, and magnesium concentration?\n",
    "\n"
   ]
  },
  {
   "cell_type": "code",
   "execution_count": 2,
   "metadata": {},
   "outputs": [],
   "source": [
    "import numpy as np\n",
    "from scipy.integrate import odeint\n",
    "import matplotlib.pyplot as plt\n",
    "import math as mt\n",
    "# init_conditions = ATP, ADP, P\n",
    "# ATP, ADP, P = init_conditions \n",
    "# Psi input in mV\n",
    "def J_ATPase(psi, pH_inner, pH_outer, Mg, concentrations):\n",
    "    # Define initial conditions \n",
    "    ATP, ADP, Pi , ATPe , ADPe = concentrations \n",
    "    \n",
    "    # Assume k_r = 1\n",
    "    k_r = 10\n",
    "    N_A = 8/3\n",
    "    # Dissociation Constants\n",
    "    K_HATP = 2.757e-7\n",
    "    K_KATP = 9.809e-2\n",
    "    K_MATP = 8.430e-5\n",
    "    K_HADP = 4.106e-7\n",
    "    K_KADP = 1.319e-1\n",
    "    K_MADP = 7.149e-4\n",
    "    K_HPI  = 2.308e-7\n",
    "    K_KPI  = 3.803e-1\n",
    "    K_MPI  = 2.815e-2\n",
    "    \n",
    "    # H concentrations \n",
    "    H_in = 10**(-pH_inner)\n",
    "    H_out = 10**(-pH_outter)\n",
    "    # print(\"H_out\",H_out)\n",
    "    # print(\"H_in\", H_in)\n",
    "    H = H_in \n",
    "    \n",
    "    \n",
    "    # binding polynomials:\n",
    "    P_ATP = 1 + H/K_HATP + Mg/K_MATP\n",
    "    P_ADP = 1 + H/K_HADP + Mg/K_MADP\n",
    "    P_PI = 1 + H/K_HPI + Mg/K_MPI\n",
    "    \n",
    "    # Other constants\n",
    "    # Keq = 6.1163\n",
    "    DGr0 = -4670\n",
    "    RT = 310.15*8.3145\n",
    "    # DGr0 = -RT*np.log(Keq)\n",
    "    F = 96485.33  # C/mole\n",
    "    # R = 8.3145\n",
    "    \n",
    "    # Define K'_F1F0ATPase\n",
    "    k_prime = np.exp(-(DGr0 - F * psi/1000* N_A)/(RT))*P_ATP/(P_ADP*P_PI)*H_out**N_A / H_in**(N_A-1) #Psi / 1000 b/c input in mv\n",
    "    return k_r*(k_prime*Pi * ADP - ATP)\n",
    "    "
   ]
  },
  {
   "cell_type": "code",
   "execution_count": 14,
   "metadata": {},
   "outputs": [],
   "source": [
    "def J_ANT(psi, pH_inner, pH_outer, Mg, concentrations):\n",
    "    # Define initial conditions \n",
    "    ATP, ADP, Pi , ATPe, ADPe = concentrations \n",
    "\n",
    "    del_D = 0.0167\n",
    "    del_T = 0.0699\n",
    "    k2_ANT = 9.54/60 \n",
    "    k3_ANT = 30.05/60\n",
    "    K_D_o_ANT = 38.89e-6 \n",
    "    K_T_o_ANT = 56.05e-6\n",
    "    A = +0.2829\n",
    "    B = -0.2086\n",
    "    C = +0.2372\n",
    "    RT = 310.15*8.3145\n",
    "    F = 96485.33  # C/mole\n",
    "    psi = .180\n",
    "    fi = F*psi/RT\n",
    "    E_ANT = 0.141\n",
    "    k2_ANT_fi = k2_ANT*mt.exp((A*(-3)+B*(-4)+C)*fi)\n",
    "    k3_ANT_fi = k3_ANT*mt.exp((A*(-4)+B*(-3)+C)*fi)\n",
    "\n",
    "    K_D_o_ANT_fi = K_D_o_ANT*mt.exp(3*del_D*fi)\n",
    "    K_T_o_ANT_fi = K_T_o_ANT*mt.exp(4*del_T*fi)\n",
    "    q = k3_ANT_fi*K_D_o_ANT_fi*mt.exp(fi)/(k2_ANT_fi*K_T_o_ANT_fi)\n",
    "    \n",
    "   \n",
    "    \n",
    "    term2 = k2_ANT_fi*ATP*ADPe*q/K_D_o_ANT_fi\n",
    "    term3 = k3_ANT_fi*ADP*ATPe/K_T_o_ANT_fi\n",
    "    num = term2 - term3\n",
    "    den = (1 + ATPe/K_T_o_ANT_fi + ADPe/K_D_o_ANT_fi)*(ADP + ATP*q)\n",
    "\n",
    "    return E_ANT*num/den\n",
    "    "
   ]
  },
  {
   "cell_type": "code",
   "execution_count": 33,
   "metadata": {},
   "outputs": [],
   "source": [
    "pH_outter = 7.2\n",
    "pH_inner = 7.4\n",
    "ADP = 9.5 # mM\n",
    "ATP = 0.5 # mM\n",
    "\n",
    "Mg  = 1e-3\n",
    "psi = 180\n",
    "ATP = 0.5e-3\n",
    "ADP = 9.5e-3\n",
    "Pi  = 1e-3\n",
    "Mg  = 1e-3\n",
    "H   = 10**(-7.2)\n",
    "K   = 100e-3\n",
    "ATPe = 7.5e-3;\n",
    "ADPe = 0.05e-3;\n",
    "\n",
    "pH_outter = 7.2\n",
    "pH_inner = 7.4\n",
    "VOLe = 2  #4.54e3\n",
    "VOLx = 1 #0.65\n",
    "init_conditions = np.array([ATP, ADP, Pi, ATPe, ADPe])\n",
    "# J_ATPase(psi, pH_inner, pH_outter, Mg, init_conditions)\n",
    "def dSTATES_dt(STATES, t, psi, pH_inner, pH_outter, Mg):\n",
    "    rate = J_ATPase(psi, pH_inner, pH_outter, Mg, STATES)\n",
    "    dATP = -(J_ANT(psi, pH_inner, pH_outter, Mg, STATES)- rate)/VOLx\n",
    "    dADP = (J_ANT(psi, pH_inner, pH_outter, Mg, STATES)- rate)/VOLx\n",
    "    dPi = 0\n",
    "    dATPe = J_ANT(psi, pH_inner, pH_outter, Mg, STATES) /VOLe\n",
    "    dADPe = -J_ANT(psi, pH_inner, pH_outter, Mg, STATES) /VOLe\n",
    "    return (dATP, dADP, dPi, dATPe, dADPe )"
   ]
  },
  {
   "cell_type": "code",
   "execution_count": 36,
   "metadata": {},
   "outputs": [
    {
     "data": {
      "text/plain": [
       "0.22617165128990518"
      ]
     },
     "execution_count": 36,
     "metadata": {},
     "output_type": "execute_result"
    },
    {
     "data": {
      "image/png": "[encoded data removed]",
      "text/plain": [
       "<Figure size 432x288 with 1 Axes>"
      ]
     },
     "metadata": {
      "needs_background": "light"
     },
     "output_type": "display_data"
    }
   ],
   "source": [
    "pH_outter = 7.2\n",
    "pH_inner = 7.4\n",
    "Mg  = 1e-3\n",
    "psi = 180\n",
    "\n",
    "t = np.linspace(0,2)\n",
    "\n",
    "dSTATES_dt(init_conditions, t, psi, pH_inner, pH_outter, Mg)\n",
    "\n",
    "ode_results = odeint(dSTATES_dt,init_conditions, t, (psi, pH_inner, pH_outter, Mg)).T\n",
    "plt.plot(t,ode_results[0], label = 'ATP')\n",
    "plt.plot(t,ode_results[1], label = 'ADP')\n",
    "plt.plot(t,ode_results[2], label = 'Pi')\n",
    "plt.plot(t,ode_results[3], label = 'ATPe')\n",
    "plt.plot(t,ode_results[4], label = 'ADPe')\n",
    "\n",
    "plt.legend()\n",
    "ode_results[:,-1][0]/ode_results[:,-1][1]"
   ]
  },
  {
   "cell_type": "code",
   "execution_count": 6,
   "metadata": {},
   "outputs": [
    {
     "data": {
      "text/plain": [
       "-4150.325422837771"
      ]
     },
     "execution_count": 6,
     "metadata": {},
     "output_type": "execute_result"
    }
   ],
   "source": [
    "RT*np.log(0.2)"
   ]
  },
  {
   "cell_type": "markdown",
   "metadata": {},
   "source": [
    "### Mg Analysis"
   ]
  },
  {
   "cell_type": "code",
   "execution_count": 7,
   "metadata": {
    "scrolled": true
   },
   "outputs": [
    {
     "data": {
      "image/png": "[encoded data removed]",
      "text/plain": [
       "<Figure size 432x288 with 1 Axes>"
      ]
     },
     "metadata": {
      "needs_background": "light"
     },
     "output_type": "display_data"
    }
   ],
   "source": [
    "Mg_array = np.linspace(1e-4, 1e-2)\n",
    "SS_end = []\n",
    "for Mg in Mg_array:\n",
    "    ode_results = odeint(dSTATES_dt,init_conditions, t, (psi, pH_inner, pH_outter, Mg)).T\n",
    "    SS_end.append(ode_results[:,-1])\n",
    "SS_end= np.array(SS_end)\n",
    "\n",
    "plt.figure()\n",
    "plt.plot(Mg_array,SS_end[:,0])\n",
    "Mg  = 1e-3"
   ]
  },
  {
   "cell_type": "markdown",
   "metadata": {},
   "source": [
    "### Psi Analysis"
   ]
  },
  {
   "cell_type": "code",
   "execution_count": 8,
   "metadata": {},
   "outputs": [
    {
     "data": {
      "image/png": "[encoded data removed]",
      "text/plain": [
       "<Figure size 432x288 with 1 Axes>"
      ]
     },
     "metadata": {
      "needs_background": "light"
     },
     "output_type": "display_data"
    }
   ],
   "source": [
    "psi_array = np.linspace(120, 220)\n",
    "SS_end = []\n",
    "for psi in psi_array:\n",
    "    ode_results = odeint(dSTATES_dt,init_conditions, t, (psi, pH_inner, pH_outter, Mg)).T\n",
    "    SS_end.append(ode_results[:,-1])\n",
    "SS_end= np.array(SS_end)\n",
    "\n",
    "\n",
    "plt.figure()\n",
    "plt.plot(psi_array,SS_end[:,0])\n",
    "plt.plot(psi_array,SS_end[:,1])\n",
    "plt.plot(psi_array,SS_end[:,2])\n",
    "psi  = 180"
   ]
  },
  {
   "cell_type": "markdown",
   "metadata": {},
   "source": [
    "### Inner pH"
   ]
  },
  {
   "cell_type": "code",
   "execution_count": 9,
   "metadata": {},
   "outputs": [
    {
     "data": {
      "image/png": "[encoded data removed]",
      "text/plain": [
       "<Figure size 432x288 with 1 Axes>"
      ]
     },
     "metadata": {
      "needs_background": "light"
     },
     "output_type": "display_data"
    }
   ],
   "source": [
    "pH_array = np.linspace(7, 8)\n",
    "SS_end = []\n",
    "for pH_inner in pH_array:\n",
    "    ode_results = odeint(dSTATES_dt,init_conditions, t, (psi, pH_inner, pH_outter, Mg)).T\n",
    "    SS_end.append(ode_results[:,-1])\n",
    "SS_end= np.array(SS_end)\n",
    "\n",
    "\n",
    "plt.figure()\n",
    "plt.plot(pH_array,SS_end[:,0])\n",
    "plt.plot(pH_array,SS_end[:,1])\n",
    "plt.plot(pH_array,SS_end[:,2])\n",
    "psi  = 180"
   ]
  },
  {
   "cell_type": "markdown",
   "metadata": {},
   "source": [
    "\n",
    "## 2.7 Buiding on the model developed in the previous section, add an extramitochondrial cytoplasmic compartment coupled to the mitochondria with the kinetic model for the adenine nucleotide translocase (ANT) of Bazil et al. https://doi.org/10.1016/j.bpj.2015.09.036. (The model formulation and kinetic parameters are in the supplementary material for the paper.) With constant $\\Delta\\Psi$ and inorganic phosphate concentrations, simulate how matrix and cytoplasmic ATP and ADP concentration depend on cytoplasmic ATP hydrolysis rate.\n"
   ]
  },
  {
   "cell_type": "markdown",
   "metadata": {},
   "source": [
    "To recap, the free energy for the ATP synthesis reaction\n",
    "\\begin{equation}\n",
    "\t{\\rm ATP}_{x} + {\\rm ADP}_{e} \\leftrightharpoons\n",
    "    {\\rm ATP}_{e} + {\\rm ADP}_{x},\t\t\t\t\n",
    "\\end{equation}\n",
    "\n",
    "\\begin{equation}\n",
    "  \\Delta G_r =  - E_{ANT}( \\frac{[{\\rm H}^+]_{\\rm inside}[{\\rm HPO}_4^{2-}][{\\rm ADP}^{3-}]}\n",
    "      {[{\\rm ATP}^{4-}]} \\right)\n",
    "\\end{equation}"
   ]
  },
  {
   "cell_type": "code",
   "execution_count": null,
   "metadata": {},
   "outputs": [],
   "source": [
    "\n",
    "\n"
   ]
  },
  {
   "cell_type": "code",
   "execution_count": null,
   "metadata": {},
   "outputs": [],
   "source": []
  }
 ],
 "metadata": {
  "kernelspec": {
   "display_name": "Python 3",
   "language": "python",
   "name": "python3"
  },
  "language_info": {
   "codemirror_mode": {
    "name": "ipython",
    "version": 3
   },
   "file_extension": ".py",
   "mimetype": "text/x-python",
   "name": "python",
   "nbconvert_exporter": "python",
   "pygments_lexer": "ipython3",
   "version": "3.7.6"
  }
 },
 "nbformat": 4,
 "nbformat_minor": 2
}
