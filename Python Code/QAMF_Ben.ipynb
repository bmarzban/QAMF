{
 "cells": [
  {
   "cell_type": "markdown",
   "metadata": {},
   "source": [
    "# 1. Electrical capacitance and energy of the mitochondrial inner membrane\n",
    "\n",
    "A capacitor is an electrical circuit element that stores electrical energy in an electric field (Wikipedia REF). The mitochondrial inner membrane acts as an electrical capacitor to store energy in an electrostatic potential different between the milieux on the two sides the membrane. \n",
    "\n",
    "Electrical capacitance is measured in units of charge per unit voltage, or in standard units, Coulombs per Volt (C/V), equivalently, a Farad. (1 F = 1 C/V)\n",
    "\n",
    "## 1.1. What is the capacitance of mitochondrial inner membrane? Make a reasonable assumption about the size of a mitochondrion and assume that the inner membrane has 5 or 10 times more area than the outer membrane."
   ]
  },
  {
   "cell_type": "markdown",
   "metadata": {},
   "source": [
    "A typical range for the capacity density of a biological membrane is $\\sim$$1\\mu$m membrane would have a surface area of $4\\pi r^2$, or approximately 12.5  $\\mu$m$^2$. If the inner membrane has 10 times more area than the outer, then the area of the inner membrane is 125 $\\mu$m$^2$. So, we can approximate the capacitance of this mitochondrion’s inner membrane as\n",
    "\n",
    "$$\n",
    "  c_{mito} = \\left( 1 \\frac{\\mu{\\rm F}} {{\\rm cm}^2} \\right)\n",
    "             \\left(  125 \\, \\mu{\\rm m}^2  \\right)\n",
    "             \\left( \\frac{ 1 \\, {\\rm cm}^2} {10^8 \\mu{\\rm m}^2} \\right) = \n",
    "             1.25 \\times 10^{-6} \\mu{\\rm F} .\n",
    "$$"
   ]
  },
  {
   "cell_type": "markdown",
   "metadata": {},
   "source": [
    "## 1.2. Express inner mitochondrial membrane capacitance in units of: (a.) farads per liter of mitochondria; (b.) moles per millivolt per unit liter of mitochondria. \n"
   ]
  },
  {
   "cell_type": "markdown",
   "metadata": {},
   "source": [
    "Note that for a spherical mitochondrion of radius 1 $\\mu$m, we have a volume of \n",
    "\\begin{equation} \n",
    "    \\Bigg(\\frac{4}{3}\\pi (1\\mu\\rm{m})^3\\Bigg) \\Bigg(\\frac{1 \\ \\rm{cm}}{10^4 \\ \\mu\\rm{m}}\\Bigg)^3 \\Bigg(\\frac{1 \\ \\rm{mL}}{1 \\ \\rm{cm}^3} \\Bigg) \\Bigg(\\frac{1 \\ \\rm{L}}{10^3 \\ \\rm{mL}}\\Bigg) = \\frac{4}{3}\\pi \\times 10^{-15} \\ \\rm{L}. \n",
    "\\end{equation} \n",
    "Dividing the capacitance by the volume gives \n",
    "\\begin{equation} \n",
    "    \\Bigg(\\frac{1.25 \\times 10^{-6} \\ \\mu\\rm{F}}{\\frac{4}{3}\\pi \\times 10^{-15} \\ \\rm{L}} \\Bigg) \\Bigg( \\frac{1 \\ \\rm{F}}{10^6 \\ \\mu\\rm{F}} \\Bigg) = 2.98 \\times 10^2 \\frac{\\rm{F}}{\\rm{L}} \\approx 300 \\frac{\\rm{F}}{\\rm{L}} = 300 \\frac{\\rm{C}}{\\rm{V}\\cdot \\rm{L}} = 0.3 \\frac{\\rm{C}}{\\rm{mV} \\cdot \\rm{L}}. \n",
    "\\end{equation} \n",
    "Converting untis gives\n",
    "\\begin{equation} \n",
    "    300 \\frac{\\rm{F}}{\\rm{L}} \\Bigg(\\frac{1 \\ \\frac{\\rm{C}}{\\rm{V}}}{1 \\ \\rm{F}} \\Bigg) \\Bigg( \\frac{1 \\ \\rm{V}}{10^3 \\ \\rm{mV}} \\Bigg) \\Bigg( \\frac{1 \\ \\rm{mol}}{96485 \\ \\rm{C}} \\Bigg) = 3.11 \\times 10^{-6} \\frac{\\rm{mol}}{\\rm{mV} \\cdot \\rm{L}}\n",
    "\\end{equation}"
   ]
  },
  {
   "cell_type": "markdown",
   "metadata": {},
   "source": [
    "## 1.3. If the electrostatic potential across the inner mitochondrial membrane is 180 mV, how much electrical energy per unit volume is stored in mitochondria? How much electrical energy is stored in mitochondria per unit volume of myocardium? Express your answer in joules per liter."
   ]
  },
  {
   "cell_type": "markdown",
   "metadata": {},
   "source": [
    "The potential $U$ stored on a capacitor is given by \n",
    "\\begin{equation} \n",
    "    U = \\frac{1}{2} c \\Delta \\Psi^2\n",
    "\\end{equation} \n",
    "where $c$ is the capacitance and $\\Delta\\Psi$ is the voltage gradient across the membrane. Then the energy per unit volume of mitochondria is \n",
    "\\begin{equation} \n",
    "    U = \\frac{1}{2} \\Bigg(0.3 \\ \\frac{\\rm{C}}{\\rm{mV} \\cdot \\rm{L}} \\Bigg) (180 \\ \\rm{mV})^2 = 4.86 \\times 10^3 \\ \\frac{\\rm{C} \\cdot \\rm{mV}}{\\rm{L}} = 4.86 \\ \\frac{\\rm{C} \\cdot \\rm{V}}{\\rm{L}} = 4.86 \\frac{\\rm{J}}{\\rm{L}} \\approx 5 \\ \\frac{\\rm{J}}{\\rm{L}}.\n",
    "\\end{equation} \n",
    "Since approximately 1/3 of the volume of myocardium is mitochondria, the energy stored in the myocardium is 5/3 J L$^{-1}$. "
   ]
  },
  {
   "cell_type": "markdown",
   "metadata": {},
   "source": [
    "## 1.4. Approximately much electrical energy is stored in mitochondria in the whole human heart? How does that compare to the amount of energy supplied by a AA battery? How does it compare to the amount of mechanical work the heart does per unit time?"
   ]
  },
  {
   "cell_type": "markdown",
   "metadata": {},
   "source": [
    "An average human heart is approximately 250 g. In L, that is \n",
    "\\begin{equation} \n",
    "    250 g \\Bigg( \\frac{1 \\ \\rm{L}}{10^3 \\ \\rm{g}} \\Bigg) = 0.25\\ \\rm{L}. \n",
    "\\end{equation} \n",
    "Then,\n",
    "\\begin{equation} \n",
    "    \\Bigg(\\frac{5}{3} \\ \\frac{\\rm{J}}{\\rm{L}} \\Bigg) \\Bigg(\\frac{1}{4} \\ \\rm{L} \\Bigg) = \\frac{5}{12} \\ \\rm{J}\n",
    "\\end{equation} \n",
    "of energy is stored in the inner membrane of the mitochondria. \n",
    "\n",
    "A typical AA battery contains 0.0039 kWH = 14 kJ. The LV typically does 1 W of work at baseline, that is, 1 W = 1 J s$^{-1}$. "
   ]
  },
  {
   "cell_type": "markdown",
   "metadata": {},
   "source": [
    "# 2. Converting electrical potential to the ATP hydrolysis chemical potential\n",
    "\n",
    "The electrostatic energy potential across the mitochondrial inner membrane is used to drive the synthesis of ATP in the final step of oxidative ATP synthesis. The mammalian mitochondrial F1F0-ATPase synthesizes ATP in the mitochondrial matrix from ADP and inorganic phosphate, coupled to the translocation of protons (H+ ions) from outside to inside of the matrix. The chemical reaction stoichiometry can be expressed:\n",
    "\n",
    "\\begin{equation}\\label{eq:ATPase1}\n",
    "\t{\\rm MgADP}^{1-} + {\\rm HPO}_4^{2-} + ({\\rm H}^+)_{\\rm inside} \\leftrightharpoons\n",
    "    {\\rm MgATP}^{2-} + {\\rm H}_2{\\rm O},\t\t\t\t\n",
    "\\end{equation}\n",
    "\n",
    "where the term $({\\rm H}^+)_{\\rm inside}$ indicates that a hydrogen ion from inside the matrix is covalently incorporated into the synthesized ATP. The species MgADP$^{1-}$ and MgATP$^{2-}$ are the magnesium-bound species of ADP and ATP. This chemical reaction is coupled to the transport of $n_A = 8/3$ protons across the inner membrane:\n",
    "\n",
    "\\begin{equation}\\label{eq:ATPase2}\n",
    "    n_A \\, ({\\rm H}^+)_{\\rm outside} \\leftrightharpoons n_A \\, ({\\rm H}^+)_{\\rm inside}.\t\n",
    "\\end{equation}\n",
    "\n",
    "## 2.1. Given a free magnesium concentration [Mg$^{2+}$] and hydrogen ion activity [H$^+$] = 10$^{\\rm -pH}$, how can you compute the concentrations of MgADP$^{1-}$, MgATP$^{2-}$, and HPO$_4^{2-}$ in terms of the total concentrations of the reactants [$\\Sigma$ADP], [$\\Sigma$ATP], and [$\\Sigma$Pi]? (You will need to account for binding of biochemical species to [Mg$^{2+}$] and [H$^+$].)"
   ]
  },
  {
   "cell_type": "markdown",
   "metadata": {},
   "source": [
    "To determine the total measurable ATP, we must consider each cation species and their dissociation. The dissociation constants of ATP from each cation species are \n",
    "\\begin{align} \n",
    "    \\rm{MgATP}^{2-} \\rightleftharpoons \\rm{Mg}^{2+} + \\rm{ATP}^{4-} \\quad &\\Rightarrow \\quad K_{\\rm{MgATP}} = \\frac{[\\rm{Mg}^{2+}] [\\rm{ATP}^{4-}]}{[\\rm{MgATP}^{2-}]} \\\\ \n",
    "    \\rm{HATP}^{3-} \\rightleftharpoons \\rm{H}^{+} + \\rm{ATP}^{4-} \\quad &\\Rightarrow \\quad K_{\\rm{HATP}} = \\frac{[\\rm{H}^{+}] [\\rm{ATP}^{4-}]}{[\\rm{HATP}^{3-}]} \\\\ \n",
    "    \\rm{KATP}^{3-} \\rightleftharpoons \\rm{K}^{+} + \\rm{ATP}^{4-} \\quad &\\Rightarrow \\quad K_{\\rm{KATP}} = \\frac{[\\rm{K}^{+}] [\\rm{ATP}^{4-}]}{[\\rm{KATP}^{3-}]}.\n",
    "\\end{align} \n",
    "Note: we disregard the doubly bound cation species in these calculations. The total measurable ATP is \n",
    "\\begin{align} \n",
    "    [\\Sigma \\rm{ATP}] &= [\\rm{ATP}^{4-}] + [\\rm{MgATP}^{2-}] + [\\rm{HATP}^{3-}] + [\\rm{KATP}^{3-}] \\\\ \n",
    "    &= [\\rm{ATP}^{4-}] + \\frac{[\\rm{Mg}^{2+}] [\\rm{ATP}^{4-}]}{K_{\\rm{MgATP}}} + \\frac{[\\rm{H}^{+}][\\rm{ATP}^{4-}]}{K_{\\rm{HATP}}} + \\frac{[\\rm{K}^{+}] [\\rm{ATP}^{4-}]}{K_{\\rm{KATP}}} \\\\ \n",
    "    &= [\\rm{ATP}^{4-}] \\Bigg( 1 + \\frac{[\\rm{Mg}^{2+}]}{K_{\\rm{MgATP}}} + \\frac{[\\rm{H}^{+}]}{K_{\\rm{HATP}}} + \\frac{[\\rm{K}^{+}]}{K_{\\rm{KATP}}} \\Bigg) \\\\ \n",
    "    &= [\\rm{ATP}^{4-}] P_{\\rm{ATP}}\n",
    "\\end{align}\n",
    "for binding polynomial \n",
    "\\begin{equation} \n",
    "    P_{\\rm{ATP}} = 1 + \\frac{[\\rm{Mg}^{2+}]}{K_{\\rm{MgATP}}} + \\frac{[\\rm{H}^{+}]}{K_{\\rm{HATP}}} + \\frac{[\\rm{K}^{+}]}{K_{\\rm{KATP}}} \n",
    "\\end{equation}\n",
    "that depends solely on the concentrations of the cation species and dissociation constants.  Similarly, binding polynomials can be found for the other species \n",
    "\\begin{align}\n",
    "    P_{\\rm{ADP}} &= 1 + \\frac{[\\rm{Mg}^{2+}]}{K_{\\rm{MgADP}}} + \\frac{[\\rm{H}^{+}]}{K_{\\rm{HADP}}} + \\frac{[\\rm{K}^{+}]}{K_{\\rm{KADP}}} \\quad \\rm{and} \\\\ \n",
    "    P_{\\rm{Pi}} &= 1 + \\frac{[\\rm{Mg}^{2+}]}{K_{\\rm{MgPi}}} + \\frac{[\\rm{H}^{+}]}{K_{\\rm{HPi}}} + \\frac{[\\rm{K}^{+}]}{K_{\\rm{KPi}}}. \n",
    "\\end{align} \n",
    "The concentrations for $[\\rm{MgATP}^{2-}]$ and $[\\rm{MgADP}^{-}]$ are\n",
    "\\begin{align} \n",
    "    [\\rm{MgATP}^{2-}] &= \\frac{[\\rm{Mg}^{2+}] [\\rm{ATP}^{4-}]}{K_{\\rm{MgATP}}} = \\frac{[\\rm{Mg}^{2+}]}{K_{\\rm{MgATP}}} \\frac{[\\Sigma \\rm{ATP}]}{P_{\\rm{ATP}}} \\quad \\rm{and} \\\\\n",
    "    [\\rm{MgADP}^{-}] &=  \\frac{[\\rm{Mg}^{2+}] [\\rm{ADP}^{3-}]}{K_{\\rm{MgADP}}} = \\frac{[\\rm{Mg}^{2+}]}{K_{\\rm{MgADP}}} \\frac{[\\Sigma \\rm{ADP}]}{P_{\\rm{ADP}}}. \n",
    "\\end{align} \n",
    "For inorganic phosphate, note that \n",
    "\\begin{equation} \n",
    "    [\\Sigma \\rm{Pi}] = [\\rm{HPO}_4^{2-}] P_{\\rm{Pi}} \\quad \\Rightarrow \\quad [\\rm{HPO}_4^{2-}] = \\frac{[\\Sigma \\rm{Pi}]}{P_{\\rm{Pi}}}\n",
    "\\end{equation} \n",
    "\n",
    "The following dissociation constants are used: \n",
    "\n",
    "| Reactant (L) | $K_{H-L}$                | $K_{K-L}$               | $K_{Mg-L}$                |\n",
    "| ------------ | ------------------------ | ----------------------- | ------------------------- |\n",
    "| ATP          | 2.757$\\times 10^{-7}$ M  | 9.809$\\times 10^{-2}$ M   | 8.430$\\times 10^{-5}$ M   |\n",
    "| ADP          | 4.106$\\times 10^{-7}$ M  | 1.319$\\times 10^{-1}$ M   | 7.149$\\times 10^{-4}$ M   |\n",
    "| PI           | 2.308$\\times 10^{-7}$ M  | 3.803$\\times 10^{-1}$ M  | 2.815$\\times 10^{-2}$ M   |"
   ]
  },
  {
   "cell_type": "markdown",
   "metadata": {},
   "source": [
    "\n",
    "## 2.2. Derive an expression for the Gibbs free energy change associated with reaction (2.1) in terms of the reference $\\Delta G_r^0$, the concentrations of biochemical reactants, and the cation concentrations [Mg$^{2+}$] and [H$^+$]. What is the free energy of ATP hydrolysis in the mitochondrial matrix? Assume that pH = 7.2 and [$\\Sigma$ADP] = 9.5 mM, [$\\Sigma$ATP] = 0.5 mM, and [$\\Sigma$Pi] = 1 mM."
   ]
  },
  {
   "cell_type": "markdown",
   "metadata": {},
   "source": [
    "To determine the Gibbs energy of the ATP synthesis reaction, consider the biochemical ATP synthesis reaction \n",
    "\\begin{equation} \n",
    "    \\rm{ADP}^{3-} + \\rm{HPO}_4^{2-} + \\rm{H}^{+} \\rightleftharpoons \\rm{ATP}^{4-} + \\rm{H}_2\\rm{O}. \n",
    "\\end{equation}\n",
    "Then, the equilibrium constant is \n",
    "\\begin{equation} \n",
    "    K_{eq} = \\Bigg( \\frac{ [\\rm{ATP}^{4-}] }{ [\\rm{ADP}^{3-}] [\\rm{HPO}_4^{2-}] [\\rm{H}^{+}]} \\Bigg)_{eq}. \n",
    "\\end{equation} \n",
    "However, it is difficult to measure the concentration of each of these species at as is. So instead, we reformulate $K_{eq}$ in terms of the total measurable concentrations given in the previous problem, that is, \n",
    "\\begin{align} \n",
    "    K_{eq} &= \\Bigg( \\frac{ [\\rm{ATP}^{4-}] }{ [\\rm{ADP}^{3-}] [\\rm{HPO}_4^{2-}] [\\rm{H}^{+}]} \\Bigg)_{eq} \\\\\n",
    "    &= \\Bigg( \\frac{ \\frac{[\\Sigma \\rm{ATP}]}{P_{\\rm{ATP}}} }{ \\frac{[\\Sigma \\rm{ADP}]}{P_{\\rm{ADP}}} \\frac{ [\\Sigma \\rm{Pi}]}{P_{\\rm{Pi}}} [\\rm{H}^{+}]} \\Bigg)_{eq} \\\\ \n",
    "    &= \\Bigg( \\frac{ [\\Sigma \\rm{ATP}] }{ [\\Sigma \\rm{ADP}] [\\Sigma \\rm{Pi}] } \\Bigg)_{eq} \\frac{ P_{\\rm{ADP}} P_{\\rm{Pi}} }{ P_{\\rm{ATP}} } \\frac{ 1 }{ [\\rm{H}^{+}] } \\\\ \n",
    "    &= K_{eq}' \\frac{ P_{\\rm{ADP}} P_{\\rm{Pi}} }{ P_{\\rm{ATP}} } \\frac{ 1 }{ [\\rm{H}^{+}] },\n",
    "\\end{align} \n",
    "where $K_{eq}'$ is the *apparent* equilibrium given a pH and ionic concentrations. Solving for $K_{eq}'$, we obtain \n",
    "\\begin{equation} \n",
    "    K_{eq}' = K_{eq} [\\rm{H}^{+}] \\frac{ P_{\\rm{ATP}} }{ P_{\\rm{ADP}} P_{\\rm{Pi}} }\n",
    "\\end{equation} \n",
    "From literature, $K_{eq} \\approx 6$ at $37^\\circ$ C. To calculate the Gibbs energy $\\Delta G$ under physiological conditions, we have \n",
    "\\begin{equation}\n",
    "    \\Delta G_{\\rm{ATP}} = \\Delta G'^{0} + R T \\ln Q'_r\n",
    "\\end{equation} \n",
    "for gas constant $R = 8.314$ J K$^{-1}$ mol$^{-1}$, temperature $T = 310$ K, and Gibbs energy at equilibrium $\\Delta G'^0 = - R T \\ln K_{eq}' = -41465$ J mol$^{-1}$. The *apparent* reaction quotient $Q'_r$ when the system is not at equilibrium is \n",
    "\\begin{equation} \n",
    "    Q'_r = \\frac{ [\\Sigma \\rm{ATP}] }{ [\\Sigma \\rm{ADP}] [\\Sigma \\rm{Pi}] } = \\frac{ 0.5 \\times 10^{-3} }{ (9.5 \\times 10^{-3} )(10^{-3})} \\approx 53. \n",
    "\\end{equation} \n",
    "The Python code below determines that $\\Delta G = 46.17$ kJ mol$^{-1}$. Since the Gibbs energy is positive, the reaction is not spontaneous. \n",
    "\n",
    "**OR**\n",
    "\n",
    "To determine the Gibbs energy of the ATP synthesis reaction, consider the biochemical ATP synthesis reaction \n",
    "\\begin{equation} \n",
    "    \\rm{MgADP}^{-} + \\rm{HPO}_4^{2-} + \\rm{H}^{+} \\rightleftharpoons \\rm{MgATP}^{2-} + \\rm{H}_2\\rm{O}. \n",
    "\\end{equation}\n",
    "Then, the equilibrium constant is \n",
    "\\begin{equation} \n",
    "    K_{eq} = \\Bigg( \\frac{ [\\rm{MgATP}^{2-}] }{ [\\rm{MgADP}^{-}] [\\rm{HPO}_4^{2-}] [\\rm{H}^{+}]} \\Bigg)_{eq}. \n",
    "\\end{equation} \n",
    "However, it is difficult to measure the concentration of each of these species at as is. So instead, we reformulate $K_{eq}$ in terms of the total measurable concentrations given in the previous problem, that is, \n",
    "\\begin{align} \n",
    "    K_{eq} &= \\Bigg( \\frac{ [\\rm{MgATP}^{2-}] }{ [\\rm{MgADP}^{-}] [\\rm{HPO}_4^{2-}] [\\rm{H}^{+}]} \\Bigg)_{eq} \\\\\n",
    "    &= \\Bigg( \\frac{ \\frac{[\\rm{Mg}^{2+}]}{K_{\\mathrm{MgATP}}} \\frac{[\\Sigma \\rm{ATP}]}{P_{\\rm{ATP}}} }{ \\frac{[\\rm{Mg}^{2+}]}{K_{\\mathrm{MgADP}}} \\frac{[\\Sigma \\rm{ADP}]}{P_{\\rm{ADP}}} \\frac{ [\\Sigma \\rm{Pi}]}{P_{\\rm{Pi}}} [\\rm{H}^{+}]} \\Bigg)_{eq} \\\\ \n",
    "    &= \\Bigg( \\frac{ [\\Sigma \\rm{ATP}] }{ [\\Sigma \\rm{ADP}] [\\Sigma \\rm{Pi}] } \\Bigg)_{eq} \\frac{K_{\\mathrm{MgADP}}}{K_{\\mathrm{MgATP}}} \\frac{ P_{\\rm{ADP}} P_{\\rm{Pi}} }{ P_{\\rm{ATP}} } \\frac{ 1 }{ [\\rm{H}^{+}] } \\\\ \n",
    "    &= K_{eq}' \\frac{K_{\\mathrm{MgADP}}}{K_{\\mathrm{MgATP}}}\\frac{ P_{\\rm{ADP}} P_{\\rm{Pi}} }{ P_{\\rm{ATP}} } \\frac{ 1 }{ [\\rm{H}^{+}] },\n",
    "\\end{align} \n",
    "where $K_{eq}'$ is the *apparent* equilibrium given a pH and ionic concentrations. Solving for $K_{eq}'$, we obtain \n",
    "\\begin{equation} \n",
    "    K_{eq}' = K_{eq} [\\rm{H}^{+}] \\frac{ P_{\\rm{ATP}} }{ P_{\\rm{ADP}} P_{\\rm{Pi}} }\\frac{K_{\\mathrm{MgATP}}}{K_{\\mathrm{MgADP}}}\n",
    "\\end{equation} \n",
    "From literature, $K_{eq} \\approx 6$ at $37^\\circ$ C. To calculate the Gibbs energy $\\Delta G$ under physiological conditions, we have \n",
    "\\begin{equation}\n",
    "    \\Delta G_{\\rm{ATP}} = \\Delta G'^{0} + R T \\ln Q'_r\n",
    "\\end{equation} \n",
    "for gas constant $R = 8.314$ J K$^{-1}$ mol$^{-1}$, temperature $T = 310$ K, and Gibbs energy at equilibrium $\\Delta G'^0 = - R T \\ln K_{eq}' = -41069$ J mol$^{-1}$. The *apparent* reaction quotient $Q'_r$ when the system is not at equilibrium is \n",
    "\\begin{equation} \n",
    "    Q'_r = \\frac{ [\\Sigma \\rm{ATP}] }{ [\\Sigma \\rm{ADP}] [\\Sigma \\rm{Pi}] } = \\frac{ 0.5 \\times 10^{-3} }{ (9.5 \\times 10^{-3} )(10^{-3})} \\approx 53. \n",
    "\\end{equation} \n",
    "The Python code below determines that $\\Delta G = 51.289$ kJ mol$^{-1}$. Since the Gibbs energy is positive, the reaction is not spontaneous. \n",
    "\n",
    "\n"
   ]
  },
  {
   "cell_type": "code",
   "execution_count": 6,
   "metadata": {},
   "outputs": [
    {
     "name": "stdout",
     "output_type": "stream",
     "text": [
      "DeltaG0_apparent: 41069.3311227448\n",
      "DeltaG: 51289.087406669285 J/mol\n"
     ]
    }
   ],
   "source": [
    "# %%\n",
    "\n",
    "import numpy\n",
    "\n",
    "# Constants\n",
    "R = 8.314; #J / K / mol\n",
    "T = 273.15 + 37; # K\n",
    "\n",
    "# Dissociation constants (M)\n",
    "K_HATP = 2.757e-7; \n",
    "K_HADP = 4.106e-7; \n",
    "K_HPi  = 2.308e-7; \n",
    "\n",
    "K_KATP = 9.809e-2; \n",
    "K_KADP = 1.319e-1; \n",
    "K_KPi  = 3.803e-1; \n",
    "\n",
    "K_MgATP = 8.43e-5; \n",
    "K_MgADP = 7.149e-4; \n",
    "K_MgPi  = 2.815e-2; \n",
    "\n",
    "# Equilibrium constant\n",
    "K_eq = 6; \n",
    "\n",
    "# Concentrations (M)\n",
    "Mg     = 1e-3;\n",
    "H      = 10**(-7.2); \n",
    "SigATP = 0.5e-3; \n",
    "SigADP = 9.5e-3; \n",
    "SigPi  = 1e-3; \n",
    "K      = 100e-3; \n",
    "\n",
    "# Polynomials\n",
    "P_ATP = 1 + Mg/K_MgATP + H/K_HATP + K/K_KATP; \n",
    "P_ADP = 1 + Mg/K_MgADP + H/K_HADP + K/K_KADP; \n",
    "P_Pi = 1 + Mg/K_MgPi + H/K_HPi + K/K_KPi; \n",
    "\n",
    "# Calculation\n",
    "K_apparent = K_eq * H * P_ATP / (P_ADP * P_Pi) * (K_MgATP / K_MgADP);\n",
    "DeltaG0_apparent = -R * T * numpy.log(K_apparent); \n",
    "print('DeltaG0_apparent:',DeltaG0_apparent)\n",
    "Q_r = SigATP / (SigADP * SigPi); \n",
    "DeltaG = DeltaG0_apparent + R * T * numpy.log(Q_r); \n",
    "print(\"DeltaG:\",DeltaG,\"J/mol\")"
   ]
  },
  {
   "cell_type": "markdown",
   "metadata": {},
   "source": [
    "## 2.3. What is the free energy change of Equation (2.2) at $\\Delta\\Psi$ = 180 mV? How does the free energy change of Equation (2.1) compare to that of Equation (2.2)? How efficient is the transduction of electrical to chemical free energy in this step in ATP synthesis? (What is the ratio of energy stored in ATP to the total energy consumed?)"
   ]
  },
  {
   "cell_type": "markdown",
   "metadata": {},
   "source": [
    "The Gibbs energy of translocating protons across the membrane $\\Delta G_{\\rm{H}^{+}}$ at $\\Delta \\Psi = 180$ mV is \n",
    "\\begin{equation} \n",
    "    \\Delta G_{\\rm{H}^{+}} = -F \\Delta\\Psi = - \\Bigg(96485 \\frac{\\rm{C}}{\\rm{mol}} \\Bigg) (0.18 \\ \\rm{V}) \\Bigg( \\frac{1 \\ \\frac{\\rm{J}}{\\rm{C}}}{1 \\ \\rm{V}} \\Bigg) \\Bigg( \\frac{1 \\ \\rm{kJ}}{10^3 \\ \\rm{J}} \\Bigg) = -17.36 \\ \\frac{\\rm{kJ}}{\\rm{mol}}\n",
    "\\end{equation}\n",
    "Hence, the total Gibbs energy $\\Delta G$ is \n",
    "\\begin{equation} \n",
    "    \\Delta G = \\Delta G_{\\rm{ATP}} + n_{\\rm{H}^{+}}\\Delta G_{\\rm{H}^{+}} = 46.17 + \\frac{8}{3} (-17.36) = -0.12 \\ \\rm{kJ} \\ \\rm{mol}^{-1}.\n",
    "\\end{equation} \n",
    "The efficiency of ATP synthesis is the ratio 46.17/46.29 * 100 = 99.7%. "
   ]
  },
  {
   "cell_type": "markdown",
   "metadata": {},
   "source": [
    "## 2.4. Given the concentrations assumed in 2.2, what is the minimum value of $\\Delta\\Psi$ at which ATP can be synthesized in the mitochondrial matrix?"
   ]
  },
  {
   "cell_type": "markdown",
   "metadata": {},
   "source": [
    "At equilibrium, $\\Delta G = 0$, that is, \n",
    "\\begin{equation} \n",
    "    46171 \\ \\rm{J} \\ \\rm{mol}^{-1} = \\Delta G_{\\rm{ATP}} = - n_{\\rm{H}^{+}} \\Delta G_{\\rm{H}^{+}} = -n_{\\rm{H}^{+}} (- F \\Delta \\Psi) = \\Bigg( \\frac{8}{3}\\Bigg) \\Bigg(96485 \\frac{\\rm{C}}{\\rm{mol}} \\Bigg) \\Delta \\Psi_{eq}.\n",
    "\\end{equation} \n",
    "Solving for $\\Delta \\Psi_{eq}$ gives \n",
    "\\begin{equation} \n",
    "    \\Delta \\Psi_{eq} = 179 \\ \\rm{mV}.\n",
    "\\end{equation}"
   ]
  },
  {
   "cell_type": "markdown",
   "metadata": {},
   "source": [
    "## 2.5. Assume that reaction (2.1) proceeds by simple mass-action kinetics, with a constant reverse rate kr. How does the forward rate constant necessarily depend on $\\Delta\\Psi$ for the reaction kinetics to be properly thermodynamically balanced?"
   ]
  },
  {
   "cell_type": "markdown",
   "metadata": {},
   "source": [
    "For a simplified model, ATP synthase has the following conformations: \n",
    "1. Open ($\\mathbf{O}$): Percentage of open active sites on ATP synthase. \n",
    "2. Bound ($\\mathbf{B}$): Percentage of active sites bound to ADP and Pi that then undergoes a conformational change to make ATP.  \n",
    "\n",
    "Then, our diagram is \n",
    "\\begin{align} \n",
    "    \\rm{ADP} \\ \\& \\ \\rm{Pi} & \\\\ \n",
    "     &\\longrightarrow   \\\\\n",
    "    & k_{OB} &  \\\\\n",
    "    \\mathbf{O} \\hspace{1cm} &\\circlearrowright \\hspace{1cm} \\mathbf{B} \\\\\n",
    "    & k_{BO} \\\\\n",
    "    & \\longleftarrow \\\\ \n",
    "    \\rm{ATP} & \n",
    "\\end{align} \n",
    "\n",
    "Assuming mass-action kinetics, we have the following system: \n",
    "\\begin{align} \n",
    "    \\frac{\\rm{d}\\mathbf{O}}{\\rm{dt}} &= -k_{OB} [\\mathrm{ADP}^{3-}]  [\\mathrm{Pi}^{2-}] [\\mathrm{H}^{+}] \\mathbf{O}  + k_{BO} [\\mathrm{ATP}^{4-}] \\mathbf{B} \\\\ \n",
    "    \\frac{\\rm{d}\\mathbf{B}}{\\rm{dt}} &= k_{OB} [\\mathrm{ADP}^{3-}]  [\\mathrm{Pi}^{2-}] [\\mathrm{H}^{+}]\\mathbf{O}  - k_{BO} [\\mathrm{ATP}^{4-}] \\mathbf{B}\n",
    "\\end{align}\n",
    "At steady-state, \n",
    "\\begin{align} \n",
    "    k_{OB} [\\mathrm{ADP}^{3-}]  [\\mathrm{Pi}^{2-}] [\\mathrm{H}^{+}] \\bar{\\mathbf{O}} &= k_{BO} [\\mathrm{ATP}^{4-}] \\bar{\\mathbf{B}} \\\\ \n",
    "    \\Rightarrow \\quad \\bar{\\mathbf{O}} &= \\frac{ [\\mathrm{ATP}^{4-}] }{ [\\mathrm{ADP}^{3-}]  [\\mathrm{Pi}^{2-}] [\\mathrm{H}^{+}] } \\frac{ k_{BO} }{ k_{OB} } \\bar{\\mathbf{B}} \\\\\n",
    "    &= K_{eq} \\gamma \\bar{\\mathbf{B}},\n",
    "\\end{align} \n",
    "where $\\gamma = k_{BO} / k_{OB}$. \n",
    "\n",
    "Note that the reaction rates $k_{BO}$ or $k_{OB}$ are not identifiable, that is, $\\gamma = k_{BO} / k_{OB}$. However, if we take $k_{OB} = 1$ and $k_{BO} = \\gamma$, we can rewrite our system in terms of one identifiable parameter $\\gamma$, that is, \n",
    "\\begin{align} \n",
    "    \\frac{\\rm{d}\\mathbf{O}}{\\rm{dt}} &= - [\\mathrm{ADP}^{3-}]  [\\mathrm{Pi}^{2-}] [\\mathrm{H}^{+}]\\mathbf{O}  + \\gamma [\\mathrm{ATP}^{4-}] \\mathbf{B} \\\\ \n",
    "    \\frac{\\rm{d}\\mathbf{B}}{\\rm{dt}} &= [\\mathrm{ADP}^{3-}]  [\\mathrm{Pi}^{2-}] [\\mathrm{H}^{+}]\\mathbf{O}  - \\gamma [\\mathrm{ATP}^{4-}] \\mathbf{B}\n",
    "\\end{align}\n",
    "with steady-state condition $\\bar{\\mathbf{O}} = Q_r \\gamma \\bar{\\mathbf{B}}$. "
   ]
  },
  {
   "cell_type": "markdown",
   "metadata": {},
   "source": [
    "## 2.6. Write a simple program that simulates the kinetics of [$\\Sigma$ADP], [$\\Sigma$ATP] , and [$\\Sigma$Pi] in the matrix given a fixed membrane potential, pH, and magnesium concentration, and given arbitrary initial conditions. How do the predicted steady-state concentrations depend on membrane potential, pH, and magnesium concentration?"
   ]
  },
  {
   "cell_type": "markdown",
   "metadata": {},
   "source": []
  },
  {
   "cell_type": "markdown",
   "metadata": {},
   "source": [
    "##  What is the free energy of ATP hydrolysis in the myocardium? Express Gibbs free energy in units of joule per mole. In mitochondrial ATP synthesis the chemical synthesis of ATP from ADP and inorganic phosphate is coupled to the movement of positive charges down the electrical gradient from the outside to the inside of the inner membrane. What is the minimum number of charges translocate to synthesize 1 ATP molecule? Assume that there is a 180 mV potential difference across the inner mitochondrial membrane."
   ]
  },
  {
   "cell_type": "markdown",
   "metadata": {},
   "source": []
  },
  {
   "cell_type": "markdown",
   "metadata": {},
   "source": [
    "##  How efficient is the transduction of electrical to chemical free energy in this step in ATP synthesis? (What is the ratio of energy stored in ATP to the total energy consumed?)"
   ]
  },
  {
   "cell_type": "markdown",
   "metadata": {},
   "source": []
  }
 ],
 "metadata": {
  "celltoolbar": "Raw Cell Format",
  "kernelspec": {
   "display_name": "Python 3",
   "language": "python",
   "name": "python3"
  },
  "language_info": {
   "codemirror_mode": {
    "name": "ipython",
    "version": 3
   },
   "file_extension": ".py",
   "mimetype": "text/x-python",
   "name": "python",
   "nbconvert_exporter": "python",
   "pygments_lexer": "ipython3",
   "version": "3.7.6"
  }
 },
 "nbformat": 4,
 "nbformat_minor": 2
}
